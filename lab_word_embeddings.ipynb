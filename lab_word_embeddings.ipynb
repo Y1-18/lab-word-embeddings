{
  "cells": [
    {
      "cell_type": "markdown",
      "metadata": {
        "id": "GRC_vQ-D5Sc7"
      },
      "source": [
        "# Lab | Word Embeddings\n",
        "\n",
        "In this lab, you will practice how to compute word embeddings and use them for sentiment analysis.\n",
        "- To implement sentiment analysis, you can go beyond counting the number of positive words and negative words.\n",
        "- You can find a way to represent each word numerically, by a vector.\n",
        "- The vector could then represent syntactic (i.e. parts of speech) and semantic (i.e. meaning) structures.\n",
        "\n",
        "In this assignment, you will explore a classic way of generating word embeddings or representations.\n",
        "- You will implement a famous model called the continuous bag of words (CBOW) model.\n",
        "\n",
        "By completing this assignment you will:\n",
        "\n",
        "- Train word vectors from scratch.\n",
        "- Learn how to create batches of data.\n",
        "- Understand how backpropagation works.\n",
        "- Plot and visualize your learned word vectors.\n",
        "\n",
        "Knowing how to train these models will give you a better understanding of word vectors, which are building blocks to many applications in natural language processing."
      ]
    },
    {
      "cell_type": "markdown",
      "metadata": {
        "id": "Xx6y1U0v5Sc9"
      },
      "source": [
        "## Outline\n",
        "\n",
        "- [1 The Continuous bag of words model](#1)\n",
        "- [2 Training the Model](#2)\n",
        "    - [2.0 Initialize the model](#2)\n",
        "        - [Exercise 01](#ex-01)\n",
        "    - [2.1 Softmax Function](#2.1)\n",
        "        - [Exercise 02](#ex-02)\n",
        "    - [2.2 Forward Propagation](#2.2)\n",
        "        - [Exercise 03](#ex-03)\n",
        "    - [2.3 Cost Function](#2.3)\n",
        "    - [2.4 Backproagation](#2.4)\n",
        "        - [Exercise 04](#ex-04)\n",
        "    - [2.5 Gradient Descent](#2.5)\n",
        "        - [Exercise 05](#ex-05)\n",
        "- [3 Visualizing the word vectors](#3)\n"
      ]
    },
    {
      "cell_type": "markdown",
      "metadata": {
        "id": "h6jwXlDc5Sc9"
      },
      "source": [
        "<a name='1'></a>\n",
        "# 1. The Continuous bag of words model\n",
        "\n",
        "Let's take a look at the following sentence:\n",
        ">**'I am happy because I am learning'**.\n",
        "\n",
        "- In continuous bag of words (CBOW) modeling, we try to predict the center word given a few context words (the words around the center word).\n",
        "- For example, if you were to choose a context half-size of say $C = 2$, then you would try to predict the word **happy** given the context that includes 2 words before and 2 words after the center word:\n",
        "\n",
        "> $C$ words before: [I, am]\n",
        "\n",
        "> $C$ words after: [because, I]\n",
        "\n",
        "- In other words:\n",
        "\n",
        "$$context = [I,am, because, I]$$\n",
        "$$target = happy$$\n",
        "\n",
        "The structure of your model will look like this:\n",
        "\n",
        "<div style=\"width:image width px; font-size:100%; text-align:center;\"><img src='../images/word2.png' alt=\"alternate text\" width=\"width\" height=\"height\" style=\"width:600px;height:250px;\" /> Figure 1 </div>\n",
        "\n",
        "Where $\\bar x$ is the average of all the one hot vectors of the context words.\n",
        "\n",
        "<div style=\"width:image width px; font-size:100%; text-align:center;\"><img src='../images/mean_vec2.png' alt=\"alternate text\" width=\"width\" height=\"height\" style=\"width:600px;height:250px;\" /> Figure 2 </div>\n",
        "\n",
        "Once you have encoded all the context words, you can use $\\bar x$ as the input to your model.\n",
        "\n",
        "The architecture you will be implementing is as follows:\n",
        "\n",
        "\\begin{align}\n",
        " h &= W_1 \\  X + b_1  \\tag{1} \\\\\n",
        " a &= ReLU(h)  \\tag{2} \\\\\n",
        " z &= W_2 \\  a + b_2   \\tag{3} \\\\\n",
        " \\hat y &= softmax(z)   \\tag{4} \\\\\n",
        "\\end{align}"
      ]
    },
    {
      "cell_type": "code",
      "source": [
        "from google.colab import files"
      ],
      "metadata": {
        "id": "UfzOQJBL-9xa"
      },
      "execution_count": 24,
      "outputs": []
    },
    {
      "cell_type": "code",
      "source": [
        "files.upload()"
      ],
      "metadata": {
        "colab": {
          "base_uri": "https://localhost:8080/",
          "height": 366
        },
        "id": "ps3UTYVK_IhS",
        "outputId": "7649ac7c-5dc2-487c-cbd8-58aca5afab3e"
      },
      "execution_count": 26,
      "outputs": [
        {
          "output_type": "display_data",
          "data": {
            "text/plain": [
              "<IPython.core.display.HTML object>"
            ],
            "text/html": [
              "\n",
              "     <input type=\"file\" id=\"files-395b5f01-ce07-40c0-a5f3-4bc6267f001f\" name=\"files[]\" multiple disabled\n",
              "        style=\"border:none\" />\n",
              "     <output id=\"result-395b5f01-ce07-40c0-a5f3-4bc6267f001f\">\n",
              "      Upload widget is only available when the cell has been executed in the\n",
              "      current browser session. Please rerun this cell to enable.\n",
              "      </output>\n",
              "      <script>// Copyright 2017 Google LLC\n",
              "//\n",
              "// Licensed under the Apache License, Version 2.0 (the \"License\");\n",
              "// you may not use this file except in compliance with the License.\n",
              "// You may obtain a copy of the License at\n",
              "//\n",
              "//      http://www.apache.org/licenses/LICENSE-2.0\n",
              "//\n",
              "// Unless required by applicable law or agreed to in writing, software\n",
              "// distributed under the License is distributed on an \"AS IS\" BASIS,\n",
              "// WITHOUT WARRANTIES OR CONDITIONS OF ANY KIND, either express or implied.\n",
              "// See the License for the specific language governing permissions and\n",
              "// limitations under the License.\n",
              "\n",
              "/**\n",
              " * @fileoverview Helpers for google.colab Python module.\n",
              " */\n",
              "(function(scope) {\n",
              "function span(text, styleAttributes = {}) {\n",
              "  const element = document.createElement('span');\n",
              "  element.textContent = text;\n",
              "  for (const key of Object.keys(styleAttributes)) {\n",
              "    element.style[key] = styleAttributes[key];\n",
              "  }\n",
              "  return element;\n",
              "}\n",
              "\n",
              "// Max number of bytes which will be uploaded at a time.\n",
              "const MAX_PAYLOAD_SIZE = 100 * 1024;\n",
              "\n",
              "function _uploadFiles(inputId, outputId) {\n",
              "  const steps = uploadFilesStep(inputId, outputId);\n",
              "  const outputElement = document.getElementById(outputId);\n",
              "  // Cache steps on the outputElement to make it available for the next call\n",
              "  // to uploadFilesContinue from Python.\n",
              "  outputElement.steps = steps;\n",
              "\n",
              "  return _uploadFilesContinue(outputId);\n",
              "}\n",
              "\n",
              "// This is roughly an async generator (not supported in the browser yet),\n",
              "// where there are multiple asynchronous steps and the Python side is going\n",
              "// to poll for completion of each step.\n",
              "// This uses a Promise to block the python side on completion of each step,\n",
              "// then passes the result of the previous step as the input to the next step.\n",
              "function _uploadFilesContinue(outputId) {\n",
              "  const outputElement = document.getElementById(outputId);\n",
              "  const steps = outputElement.steps;\n",
              "\n",
              "  const next = steps.next(outputElement.lastPromiseValue);\n",
              "  return Promise.resolve(next.value.promise).then((value) => {\n",
              "    // Cache the last promise value to make it available to the next\n",
              "    // step of the generator.\n",
              "    outputElement.lastPromiseValue = value;\n",
              "    return next.value.response;\n",
              "  });\n",
              "}\n",
              "\n",
              "/**\n",
              " * Generator function which is called between each async step of the upload\n",
              " * process.\n",
              " * @param {string} inputId Element ID of the input file picker element.\n",
              " * @param {string} outputId Element ID of the output display.\n",
              " * @return {!Iterable<!Object>} Iterable of next steps.\n",
              " */\n",
              "function* uploadFilesStep(inputId, outputId) {\n",
              "  const inputElement = document.getElementById(inputId);\n",
              "  inputElement.disabled = false;\n",
              "\n",
              "  const outputElement = document.getElementById(outputId);\n",
              "  outputElement.innerHTML = '';\n",
              "\n",
              "  const pickedPromise = new Promise((resolve) => {\n",
              "    inputElement.addEventListener('change', (e) => {\n",
              "      resolve(e.target.files);\n",
              "    });\n",
              "  });\n",
              "\n",
              "  const cancel = document.createElement('button');\n",
              "  inputElement.parentElement.appendChild(cancel);\n",
              "  cancel.textContent = 'Cancel upload';\n",
              "  const cancelPromise = new Promise((resolve) => {\n",
              "    cancel.onclick = () => {\n",
              "      resolve(null);\n",
              "    };\n",
              "  });\n",
              "\n",
              "  // Wait for the user to pick the files.\n",
              "  const files = yield {\n",
              "    promise: Promise.race([pickedPromise, cancelPromise]),\n",
              "    response: {\n",
              "      action: 'starting',\n",
              "    }\n",
              "  };\n",
              "\n",
              "  cancel.remove();\n",
              "\n",
              "  // Disable the input element since further picks are not allowed.\n",
              "  inputElement.disabled = true;\n",
              "\n",
              "  if (!files) {\n",
              "    return {\n",
              "      response: {\n",
              "        action: 'complete',\n",
              "      }\n",
              "    };\n",
              "  }\n",
              "\n",
              "  for (const file of files) {\n",
              "    const li = document.createElement('li');\n",
              "    li.append(span(file.name, {fontWeight: 'bold'}));\n",
              "    li.append(span(\n",
              "        `(${file.type || 'n/a'}) - ${file.size} bytes, ` +\n",
              "        `last modified: ${\n",
              "            file.lastModifiedDate ? file.lastModifiedDate.toLocaleDateString() :\n",
              "                                    'n/a'} - `));\n",
              "    const percent = span('0% done');\n",
              "    li.appendChild(percent);\n",
              "\n",
              "    outputElement.appendChild(li);\n",
              "\n",
              "    const fileDataPromise = new Promise((resolve) => {\n",
              "      const reader = new FileReader();\n",
              "      reader.onload = (e) => {\n",
              "        resolve(e.target.result);\n",
              "      };\n",
              "      reader.readAsArrayBuffer(file);\n",
              "    });\n",
              "    // Wait for the data to be ready.\n",
              "    let fileData = yield {\n",
              "      promise: fileDataPromise,\n",
              "      response: {\n",
              "        action: 'continue',\n",
              "      }\n",
              "    };\n",
              "\n",
              "    // Use a chunked sending to avoid message size limits. See b/62115660.\n",
              "    let position = 0;\n",
              "    do {\n",
              "      const length = Math.min(fileData.byteLength - position, MAX_PAYLOAD_SIZE);\n",
              "      const chunk = new Uint8Array(fileData, position, length);\n",
              "      position += length;\n",
              "\n",
              "      const base64 = btoa(String.fromCharCode.apply(null, chunk));\n",
              "      yield {\n",
              "        response: {\n",
              "          action: 'append',\n",
              "          file: file.name,\n",
              "          data: base64,\n",
              "        },\n",
              "      };\n",
              "\n",
              "      let percentDone = fileData.byteLength === 0 ?\n",
              "          100 :\n",
              "          Math.round((position / fileData.byteLength) * 100);\n",
              "      percent.textContent = `${percentDone}% done`;\n",
              "\n",
              "    } while (position < fileData.byteLength);\n",
              "  }\n",
              "\n",
              "  // All done.\n",
              "  yield {\n",
              "    response: {\n",
              "      action: 'complete',\n",
              "    }\n",
              "  };\n",
              "}\n",
              "\n",
              "scope.google = scope.google || {};\n",
              "scope.google.colab = scope.google.colab || {};\n",
              "scope.google.colab._files = {\n",
              "  _uploadFiles,\n",
              "  _uploadFilesContinue,\n",
              "};\n",
              "})(self);\n",
              "</script> "
            ]
          },
          "metadata": {}
        },
        {
          "output_type": "stream",
          "name": "stdout",
          "text": [
            "Saving utils2.py to utils2 (1).py\n"
          ]
        },
        {
          "output_type": "execute_result",
          "data": {
            "text/plain": [
              "{'utils2 (1).py': b'import numpy as np\\nfrom scipy import linalg\\nfrom collections import defaultdict\\n\\n\\ndef sigmoid(z):\\n    # sigmoid function\\n    return 1.0/(1.0+np.exp(-z))\\n\\n\\ndef get_idx(words, word2Ind):\\n    idx = []\\n    for word in words:\\n        idx = idx + [word2Ind[word]]\\n    return idx\\n\\n\\ndef pack_idx_with_frequency(context_words, word2Ind):\\n    freq_dict = defaultdict(int)\\n    for word in context_words:\\n        freq_dict[word] += 1\\n    idxs = get_idx(context_words, word2Ind)\\n    packed = []\\n    for i in range(len(idxs)):\\n        idx = idxs[i]\\n        freq = freq_dict[context_words[i]]\\n        packed.append((idx, freq))\\n    return packed\\n\\n\\ndef get_vectors(data, word2Ind, V, C):\\n    i = C\\n    while True:\\n        y = np.zeros(V)\\n        x = np.zeros(V)\\n        center_word = data[i]\\n        y[word2Ind[center_word]] = 1\\n        context_words = data[(i - C):i] + data[(i+1):(i+C+1)]\\n        num_ctx_words = len(context_words)\\n        for idx, freq in pack_idx_with_frequency(context_words, word2Ind):\\n            x[idx] = freq/num_ctx_words\\n        yield x, y\\n        i += 1\\n        if i >= len(data):\\n            print(\\'i is being set to 0\\')\\n            i = 0\\n\\n\\ndef get_batches(data, word2Ind, V, C, batch_size):\\n    batch_x = []\\n    batch_y = []\\n    for x, y in get_vectors(data, word2Ind, V, C):\\n        while len(batch_x) < batch_size:\\n            batch_x.append(x)\\n            batch_y.append(y)\\n        else:\\n            yield np.array(batch_x).T, np.array(batch_y).T\\n            batch = []\\n\\n\\ndef compute_pca(data, n_components=2):\\n    \"\"\"\\n    Input: \\n        data: of dimension (m,n) where each row corresponds to a word vector\\n        n_components: Number of components you want to keep.\\n    Output: \\n        X_reduced: data transformed in 2 dims/columns + regenerated original data\\n    pass in: data as 2D NumPy array\\n    \"\"\"\\n\\n    m, n = data.shape\\n\\n    ### START CODE HERE ###\\n    # mean center the data\\n    data -= data.mean(axis=0)\\n    # calculate the covariance matrix\\n    R = np.cov(data, rowvar=False)\\n    # calculate eigenvectors & eigenvalues of the covariance matrix\\n    # use \\'eigh\\' rather than \\'eig\\' since R is symmetric,\\n    # the performance gain is substantial\\n    evals, evecs = linalg.eigh(R)\\n    # sort eigenvalue in decreasing order\\n    # this returns the corresponding indices of evals and evecs\\n    idx = np.argsort(evals)[::-1]\\n\\n    evecs = evecs[:, idx]\\n    # sort eigenvectors according to same index\\n    evals = evals[idx]\\n    # select the first n eigenvectors (n is desired dimension\\n    # of rescaled data array, or dims_rescaled_data)\\n    evecs = evecs[:, :n_components]\\n    ### END CODE HERE ###\\n    return np.dot(evecs.T, data.T).T\\n\\n\\ndef get_dict(data):\\n    \"\"\"\\n    Input:\\n        K: the number of negative samples\\n        data: the data you want to pull from\\n        indices: a list of word indices\\n    Output:\\n        word_dict: a dictionary with the weighted probabilities of each word\\n        word2Ind: returns dictionary mapping the word to its index\\n        Ind2Word: returns dictionary mapping the index to its word\\n    \"\"\"\\n    #\\n#     words = nltk.word_tokenize(data)\\n    words = sorted(list(set(data)))\\n    n = len(words)\\n    idx = 0\\n    # return these correctly\\n    word2Ind = {}\\n    Ind2word = {}\\n    for k in words:\\n        word2Ind[k] = idx\\n        Ind2word[idx] = k\\n        idx += 1\\n    return word2Ind, Ind2word\\n'}"
            ]
          },
          "metadata": {},
          "execution_count": 26
        }
      ]
    },
    {
      "cell_type": "code",
      "source": [
        "import utils2"
      ],
      "metadata": {
        "id": "ZMjvivAN_TXS"
      },
      "execution_count": 27,
      "outputs": []
    },
    {
      "cell_type": "code",
      "source": [
        "from utils2 import sigmoid, get_batches, compute_pca, get_dict"
      ],
      "metadata": {
        "colab": {
          "base_uri": "https://localhost:8080/",
          "height": 314
        },
        "id": "JRZguofW_aKC",
        "outputId": "8ac4e6a3-9087-4001-b861-5e02d1ec33b5"
      },
      "execution_count": 30,
      "outputs": [
        {
          "output_type": "error",
          "ename": "ImportError",
          "evalue": "cannot import name 'get_batches' from 'utils2' (/usr/local/lib/python3.11/dist-packages/utils2/__init__.py)",
          "traceback": [
            "\u001b[0;31m---------------------------------------------------------------------------\u001b[0m",
            "\u001b[0;31mImportError\u001b[0m                               Traceback (most recent call last)",
            "\u001b[0;32m<ipython-input-30-e454e9f463d9>\u001b[0m in \u001b[0;36m<cell line: 0>\u001b[0;34m()\u001b[0m\n\u001b[0;32m----> 1\u001b[0;31m \u001b[0;32mfrom\u001b[0m \u001b[0mutils2\u001b[0m \u001b[0;32mimport\u001b[0m  \u001b[0mget_batches\u001b[0m\u001b[0;34m,\u001b[0m \u001b[0mcompute_pca\u001b[0m\u001b[0;34m,\u001b[0m \u001b[0mget_dict\u001b[0m\u001b[0;34m\u001b[0m\u001b[0;34m\u001b[0m\u001b[0m\n\u001b[0m",
            "\u001b[0;31mImportError\u001b[0m: cannot import name 'get_batches' from 'utils2' (/usr/local/lib/python3.11/dist-packages/utils2/__init__.py)",
            "",
            "\u001b[0;31m---------------------------------------------------------------------------\u001b[0;32m\nNOTE: If your import is failing due to a missing package, you can\nmanually install dependencies using either !pip or !apt.\n\nTo view examples of installing some common dependencies, click the\n\"Open Examples\" button below.\n\u001b[0;31m---------------------------------------------------------------------------\u001b[0m\n"
          ],
          "errorDetails": {
            "actions": [
              {
                "action": "open_url",
                "actionText": "Open Examples",
                "url": "/notebooks/snippets/importing_libraries.ipynb"
              }
            ]
          }
        }
      ]
    },
    {
      "cell_type": "code",
      "execution_count": 31,
      "metadata": {
        "tags": [],
        "id": "yXgXQY3X5Sc-"
      },
      "outputs": [],
      "source": [
        "# Import Python libraries and helper functions (in utils2)\n",
        "import nltk\n",
        "from nltk.tokenize import word_tokenize\n",
        "import numpy as np\n",
        "from collections import Counter\n",
        "#from utils2 import sigmoid, get_batches, compute_pca, get_dict\n"
      ]
    },
    {
      "cell_type": "code",
      "execution_count": 32,
      "metadata": {
        "tags": [],
        "id": "MHxxwrCh5Sc-"
      },
      "outputs": [],
      "source": [
        "# Download sentence tokenizer\n",
        "nltk.data.path.append('.')"
      ]
    },
    {
      "cell_type": "code",
      "source": [
        "nltk.download('punkt_tab')\n"
      ],
      "metadata": {
        "colab": {
          "base_uri": "https://localhost:8080/"
        },
        "id": "LhdBk0ybAEqK",
        "outputId": "be138df2-9359-41e2-9622-6e159464e1ae"
      },
      "execution_count": 36,
      "outputs": [
        {
          "output_type": "stream",
          "name": "stderr",
          "text": [
            "[nltk_data] Downloading package punkt_tab to /root/nltk_data...\n",
            "[nltk_data]   Unzipping tokenizers/punkt_tab.zip.\n"
          ]
        },
        {
          "output_type": "execute_result",
          "data": {
            "text/plain": [
              "True"
            ]
          },
          "metadata": {},
          "execution_count": 36
        }
      ]
    },
    {
      "cell_type": "code",
      "execution_count": 37,
      "metadata": {
        "tags": [],
        "id": "TwDDJPMw5Sc-",
        "colab": {
          "base_uri": "https://localhost:8080/"
        },
        "outputId": "41dc487b-4853-4211-b24b-029585fbb592"
      },
      "outputs": [
        {
          "output_type": "stream",
          "name": "stdout",
          "text": [
            "Number of tokens: 61011 \n",
            " ['o', 'for', 'a', 'muse', 'of', 'fire', '.', 'that', 'would', 'ascend', 'the', 'brightest', 'heaven', 'of', 'invention']\n"
          ]
        }
      ],
      "source": [
        "# Load, tokenize and process the data\n",
        "import re                                                           #  Load the Regex-modul\n",
        "with open('/content/shakespeare.txt') as f:\n",
        "    data = f.read()                                                 #  Read in the data\n",
        "data = re.sub(r'[,!?;-]', '.',data)                                 #  Punktuations are replaced by .\n",
        "data = nltk.word_tokenize(data)                                     #  Tokenize string to words\n",
        "data = [ ch.lower() for ch in data if ch.isalpha() or ch == '.']    #  Lower case and drop non-alphabetical tokens\n",
        "print(\"Number of tokens:\", len(data),'\\n', data[:15])               #  print data sample"
      ]
    },
    {
      "cell_type": "code",
      "execution_count": 38,
      "metadata": {
        "tags": [],
        "id": "hJDPP0Z55Sc_",
        "colab": {
          "base_uri": "https://localhost:8080/"
        },
        "outputId": "b8a04e72-cb44-48ab-8a23-70be3274df74"
      },
      "outputs": [
        {
          "output_type": "stream",
          "name": "stdout",
          "text": [
            "Size of vocabulary:  5784\n",
            "Most frequent tokens:  [('.', 9630), ('the', 1521), ('and', 1394), ('i', 1259), ('to', 1159), ('of', 1093), ('my', 857), ('that', 781), ('in', 771), ('a', 752), ('you', 748), ('is', 630), ('not', 559), ('for', 467), ('it', 460), ('with', 441), ('his', 434), ('but', 417), ('me', 417), ('your', 397)]\n"
          ]
        }
      ],
      "source": [
        "# Compute the frequency distribution of the words in the dataset (vocabulary)\n",
        "fdist = nltk.FreqDist(word for word in data)\n",
        "print(\"Size of vocabulary: \",len(fdist) )\n",
        "print(\"Most frequent tokens: \",fdist.most_common(20) ) # print the 20 most frequent words and their freq."
      ]
    },
    {
      "cell_type": "markdown",
      "metadata": {
        "id": "FCV0x_7i5SdA"
      },
      "source": [
        "#### Mapping words to indices and indices to words\n",
        "We provide a helper function to create a dictionary that maps words to indices and indices to words."
      ]
    },
    {
      "cell_type": "code",
      "execution_count": 39,
      "metadata": {
        "tags": [],
        "id": "4t6-Jp-45SdA",
        "colab": {
          "base_uri": "https://localhost:8080/"
        },
        "outputId": "c179e387-6fed-4809-e182-c59c9d2a1b54"
      },
      "outputs": [
        {
          "output_type": "stream",
          "name": "stdout",
          "text": [
            "Size of vocabulary:  5784\n"
          ]
        }
      ],
      "source": [
        "# get_dict creates two dictionaries, converting words to indices and viceversa.\n",
        "word2Ind, Ind2word = get_dict(data)\n",
        "V = len(word2Ind)\n",
        "print(\"Size of vocabulary: \", V)"
      ]
    },
    {
      "cell_type": "code",
      "execution_count": 40,
      "metadata": {
        "tags": [],
        "id": "cooXir-L5SdA",
        "colab": {
          "base_uri": "https://localhost:8080/"
        },
        "outputId": "3f6d7a8e-72c1-4c48-bff9-12c26fc97a8a"
      },
      "outputs": [
        {
          "output_type": "stream",
          "name": "stdout",
          "text": [
            "Index of the word 'king' :   2747\n",
            "Word which has index 2743:   kind\n"
          ]
        }
      ],
      "source": [
        "# example of word to index mapping\n",
        "print(\"Index of the word 'king' :  \",word2Ind['king'] )\n",
        "print(\"Word which has index 2743:  \",Ind2word[2743] )"
      ]
    },
    {
      "cell_type": "markdown",
      "metadata": {
        "id": "cH0PMlTR5SdA"
      },
      "source": [
        "<a name='2'></a>\n",
        "# 2 Training the Model\n",
        "\n",
        "###  Initializing the model\n",
        "\n",
        "You will now initialize two matrices and two vectors.\n",
        "- The first matrix ($W_1$) is of dimension $N \\times V$, where $V$ is the number of words in your vocabulary and $N$ is the dimension of your word vector.\n",
        "- The second matrix ($W_2$) is of dimension $V \\times N$.\n",
        "- Vector $b_1$ has dimensions $N\\times 1$\n",
        "- Vector $b_2$ has dimensions  $V\\times 1$.\n",
        "- $b_1$ and $b_2$ are the bias vectors of the linear layers from matrices $W_1$ and $W_2$.\n",
        "\n",
        "The overall structure of the model will look as in Figure 1, but at this stage we are just initializing the parameters.\n",
        "\n",
        "<a name='ex-01'></a>\n",
        "### Exercise 01\n",
        "Please use [numpy.random.rand](https://numpy.org/doc/stable/reference/random/generated/numpy.random.rand.html) to generate matrices that are initialized with random values from a uniform distribution, ranging between 0 and 1.\n",
        "\n",
        "**Note:** In the next cell you will encounter a random seed. Please **DO NOT** modify this seed so your solution can be tested correctly."
      ]
    },
    {
      "cell_type": "code",
      "execution_count": 45,
      "metadata": {
        "tags": [],
        "id": "Ytjp8AMA5SdA"
      },
      "outputs": [],
      "source": [
        "# GRADED FUNCTION: initialize_model\n",
        "def initialize_model(N,V, random_seed=1):\n",
        "    '''\n",
        "    Inputs:\n",
        "        N:  dimension of hidden vector\n",
        "        V:  dimension of vocabulary\n",
        "        random_seed: random seed for consistent results in the unit tests\n",
        "     Outputs:\n",
        "        W1, W2, b1, b2: initialized weights and biases\n",
        "    '''\n",
        "\n",
        "    np.random.seed(random_seed)\n",
        "\n",
        "    ### START CODE HERE (Replace instances of 'None' with your code) ###\n",
        "    # W1 has shape (N,V)\n",
        "    W1 = np.random.rand(N,V)\n",
        "    # W2 has shape (V,N)\n",
        "    W2 = np.random.rand(V,N)\n",
        "    # b1 has shape (N,1)\n",
        "    b1 =np.random.rand(N,1)\n",
        "    # b2 has shape (V,1)\n",
        "    b2 = np.random.rand(V,1)\n",
        "    ### END CODE HERE ###\n",
        "\n",
        "    return W1, W2, b1, b2"
      ]
    },
    {
      "cell_type": "code",
      "execution_count": 46,
      "metadata": {
        "tags": [],
        "id": "WOhqAcWp5SdB",
        "colab": {
          "base_uri": "https://localhost:8080/"
        },
        "outputId": "f1a3a85c-0163-426d-ce68-3943343441eb"
      },
      "outputs": [
        {
          "output_type": "stream",
          "name": "stdout",
          "text": [
            "tmp_W1.shape: (4, 10)\n",
            "tmp_W2.shape: (10, 4)\n",
            "tmp_b1.shape: (4, 1)\n",
            "tmp_b2.shape: (10, 1)\n"
          ]
        }
      ],
      "source": [
        "# Test your function example.\n",
        "tmp_N = 4\n",
        "tmp_V = 10\n",
        "tmp_W1, tmp_W2, tmp_b1, tmp_b2 = initialize_model(tmp_N,tmp_V)\n",
        "assert tmp_W1.shape == ((tmp_N,tmp_V))\n",
        "assert tmp_W2.shape == ((tmp_V,tmp_N))\n",
        "print(f\"tmp_W1.shape: {tmp_W1.shape}\")\n",
        "print(f\"tmp_W2.shape: {tmp_W2.shape}\")\n",
        "print(f\"tmp_b1.shape: {tmp_b1.shape}\")\n",
        "print(f\"tmp_b2.shape: {tmp_b2.shape}\")"
      ]
    },
    {
      "cell_type": "markdown",
      "metadata": {
        "id": "5wwdMzZT5SdB"
      },
      "source": [
        "##### Expected Output\n",
        "\n",
        "```CPP\n",
        "tmp_W1.shape: (4, 10)\n",
        "tmp_W2.shape: (10, 4)\n",
        "tmp_b1.shape: (4, 1)\n",
        "tmp_b2.shape: (10, 1)\n",
        "```"
      ]
    },
    {
      "cell_type": "markdown",
      "metadata": {
        "id": "5QzC3wd75SdB"
      },
      "source": [
        "<a name='2.1'></a>\n",
        "### 2.1 Softmax\n",
        "Before we can start training the model, we need to implement the softmax function as defined in equation 5:  \n",
        "\n",
        "<br>\n",
        "$$ \\text{softmax}(z_i) = \\frac{e^{z_i} }{\\sum_{i=0}^{V-1} e^{z_i} }  \\tag{5} $$\n",
        "\n",
        "- Array indexing in code starts at 0.\n",
        "- $V$ is the number of words in the vocabulary (which is also the number of rows of $z$).\n",
        "- $i$ goes from 0 to |V| - 1.\n",
        "\n",
        "\n",
        "<a name='ex-02'></a>\n",
        "### Exercise 02\n",
        "**Instructions**: Implement the softmax function below.\n",
        "\n",
        "- Assume that the input $z$ to `softmax` is a 2D array\n",
        "- Each training example is represented by a column of shape (V, 1) in this 2D array.\n",
        "- There may be more than one column, in the 2D array, because you can put in a batch of examples to increase efficiency.  Let's call the batch size lowercase $m$, so the $z$ array has shape (V, m)\n",
        "- When taking the sum from $i=1 \\cdots V-1$, take the sum for each column (each example) separately.\n",
        "\n",
        "Please use\n",
        "- numpy.exp\n",
        "- numpy.sum (set the axis so that you take the sum of each column in z)"
      ]
    },
    {
      "cell_type": "code",
      "execution_count": 47,
      "metadata": {
        "tags": [],
        "id": "erBX4_i_5SdB"
      },
      "outputs": [],
      "source": [
        "# GRADED FUNCTION: softmax\n",
        "def softmax(z):\n",
        "    '''\n",
        "    Inputs:\n",
        "        z: output scores from the hidden layer\n",
        "    Outputs:\n",
        "        yhat: prediction (estimate of y)\n",
        "    '''\n",
        "\n",
        "    ### START CODE HERE (Replace instances of 'None' with your own code) ###\n",
        "\n",
        "    # Calculate yhat (softmax)\n",
        "    yhat = np.exp(z) / np.sum(np.exp(z), axis=0)\n",
        "\n",
        "    ### END CODE HERE ###\n",
        "\n",
        "    return yhat"
      ]
    },
    {
      "cell_type": "code",
      "execution_count": 48,
      "metadata": {
        "tags": [],
        "id": "uA7NjXUk5SdB",
        "outputId": "da66a542-e266-4dc3-ba60-703104b9257d",
        "colab": {
          "base_uri": "https://localhost:8080/",
          "height": 52
        }
      },
      "outputs": [
        {
          "output_type": "display_data",
          "data": {
            "text/plain": [
              "array([[0.5       , 0.73105858, 0.88079708],\n",
              "       [0.5       , 0.26894142, 0.11920292]])"
            ]
          },
          "metadata": {}
        }
      ],
      "source": [
        "# Test the function\n",
        "tmp = np.array([[1,2,3],\n",
        "                [1,1,1]\n",
        "               ])\n",
        "tmp_sm = softmax(tmp)\n",
        "display(tmp_sm)"
      ]
    },
    {
      "cell_type": "markdown",
      "metadata": {
        "id": "jCLsjdDE5SdB"
      },
      "source": [
        "##### Expected Ouput\n",
        "\n",
        "```CPP\n",
        "array([[0.5       , 0.73105858, 0.88079708],\n",
        "       [0.5       , 0.26894142, 0.11920292]])\n",
        "```"
      ]
    },
    {
      "cell_type": "markdown",
      "metadata": {
        "id": "RXpXx_xV5SdC"
      },
      "source": [
        "<a name='2.2'></a>\n",
        "### 2.2 Forward propagation\n",
        "\n",
        "<a name='ex-03'></a>\n",
        "### Exercise 03\n",
        "Implement the forward propagation $z$ according to equations (1) to (3). <br>\n",
        "\n",
        "\\begin{align}\n",
        " h &= W_1 \\  X + b_1  \\tag{1} \\\\\n",
        " a &= ReLU(h)  \\tag{2} \\\\\n",
        " z &= W_2 \\  a + b_2   \\tag{3} \\\\\n",
        "\\end{align}\n",
        "\n",
        "For that, you will use as activation the Rectified Linear Unit (ReLU) given by:\n",
        "\n",
        "$$f(h)=\\max (0,h) \\tag{6}$$"
      ]
    },
    {
      "cell_type": "markdown",
      "metadata": {
        "id": "i8ypDWxj5SdC"
      },
      "source": [
        "<details>    \n",
        "<summary>\n",
        "    <font size=\"3\" color=\"darkgreen\"><b>Hints</b></font>\n",
        "</summary>\n",
        "<p>\n",
        "<ul>\n",
        "    <li>You can use numpy.maximum(x1,x2) to get the maximum of two values</li>\n",
        "    <li>Use numpy.dot(A,B) to matrix multiply A and B</li>\n",
        "</ul>\n",
        "</p>\n"
      ]
    },
    {
      "cell_type": "code",
      "execution_count": 49,
      "metadata": {
        "tags": [],
        "id": "nDcVBKvA5SdC"
      },
      "outputs": [],
      "source": [
        "# GRADED FUNCTION: forward_prop\n",
        "def forward_prop(x, W1, W2, b1, b2):\n",
        "    '''\n",
        "    Inputs:\n",
        "        x:  average one hot vector for the context\n",
        "        W1, W2, b1, b2:  matrices and biases to be learned\n",
        "     Outputs:\n",
        "        z:  output score vector\n",
        "    '''\n",
        "\n",
        "    ### START CODE HERE (Replace instances of 'None' with your own code) ###\n",
        "\n",
        "    # Calculate h\n",
        "    h = np.dot(W1, x) + b1\n",
        "\n",
        "    # Apply the relu on h (store result in h)\n",
        "    h = np.maximum(0, h)\n",
        "\n",
        "    # Calculate z\n",
        "    z = np.dot(W2, h) + b2\n",
        "\n",
        "    ### END CODE HERE ###\n",
        "\n",
        "    return z, h"
      ]
    },
    {
      "cell_type": "code",
      "execution_count": 50,
      "metadata": {
        "tags": [],
        "id": "SWFc2ys95SdC",
        "outputId": "47e1f810-4399-4531-84f2-75b0f4fe9d44",
        "colab": {
          "base_uri": "https://localhost:8080/"
        }
      },
      "outputs": [
        {
          "output_type": "stream",
          "name": "stdout",
          "text": [
            "x has shape (3, 1)\n",
            "N is 2 and vocabulary size V is 3\n",
            "call forward_prop\n",
            "\n",
            "z has shape (3, 1)\n",
            "z has values:\n",
            "[[0.55379268]\n",
            " [1.58960774]\n",
            " [1.50722933]]\n",
            "\n",
            "h has shape (2, 1)\n",
            "h has values:\n",
            "[[0.92477674]\n",
            " [1.02487333]]\n"
          ]
        }
      ],
      "source": [
        "# Test the function\n",
        "\n",
        "# Create some inputs\n",
        "tmp_N = 2\n",
        "tmp_V = 3\n",
        "tmp_x = np.array([[0,1,0]]).T\n",
        "tmp_W1, tmp_W2, tmp_b1, tmp_b2 = initialize_model(N=tmp_N,V=tmp_V, random_seed=1)\n",
        "\n",
        "print(f\"x has shape {tmp_x.shape}\")\n",
        "print(f\"N is {tmp_N} and vocabulary size V is {tmp_V}\")\n",
        "\n",
        "# call function\n",
        "tmp_z, tmp_h = forward_prop(tmp_x, tmp_W1, tmp_W2, tmp_b1, tmp_b2)\n",
        "print(\"call forward_prop\")\n",
        "print()\n",
        "# Look at output\n",
        "print(f\"z has shape {tmp_z.shape}\")\n",
        "print(\"z has values:\")\n",
        "print(tmp_z)\n",
        "\n",
        "print()\n",
        "\n",
        "print(f\"h has shape {tmp_h.shape}\")\n",
        "print(\"h has values:\")\n",
        "print(tmp_h)"
      ]
    },
    {
      "cell_type": "markdown",
      "metadata": {
        "id": "ZXlpkC8U5SdC"
      },
      "source": [
        "##### Expected output\n",
        "```CPP\n",
        "x has shape (3, 1)\n",
        "N is 2 and vocabulary size V is 3\n",
        "call forward_prop\n",
        "\n",
        "z has shape (3, 1)\n",
        "z has values:\n",
        "[[0.55379268]\n",
        " [1.58960774]\n",
        " [1.50722933]]\n",
        "\n",
        "h has shape (2, 1)\n",
        "h has values:\n",
        "[[0.92477674]\n",
        " [1.02487333]]\n",
        "```"
      ]
    },
    {
      "cell_type": "markdown",
      "metadata": {
        "id": "o0bmD-p55SdC"
      },
      "source": [
        "<a name='2.3'></a>\n",
        "## 2.3 Cost function\n",
        "\n",
        "- We have implemented the *cross-entropy* cost function for you."
      ]
    },
    {
      "cell_type": "code",
      "execution_count": 51,
      "metadata": {
        "tags": [],
        "id": "Mq555OUq5SdC"
      },
      "outputs": [],
      "source": [
        "# compute_cost: cross-entropy cost functioN\n",
        "def compute_cost(y, yhat, batch_size):\n",
        "    # cost function\n",
        "    logprobs = np.multiply(np.log(yhat),y) + np.multiply(np.log(1 - yhat), 1 - y)\n",
        "    cost = - 1/batch_size * np.sum(logprobs)\n",
        "    cost = np.squeeze(cost)\n",
        "    return cost"
      ]
    },
    {
      "cell_type": "code",
      "execution_count": 52,
      "metadata": {
        "tags": [],
        "id": "r8Br7Aln5SdD",
        "outputId": "d359bd62-e7eb-4a8f-9540-b02de1d23f3b",
        "colab": {
          "base_uri": "https://localhost:8080/"
        }
      },
      "outputs": [
        {
          "output_type": "stream",
          "name": "stdout",
          "text": [
            "tmp_x.shape (5784, 4)\n",
            "tmp_y.shape (5784, 4)\n",
            "tmp_W1.shape (50, 5784)\n",
            "tmp_W2.shape (5784, 50)\n",
            "tmp_b1.shape (50, 1)\n",
            "tmp_b2.shape (5784, 1)\n",
            "tmp_z.shape: (5784, 4)\n",
            "tmp_h.shape: (50, 4)\n",
            "tmp_yhat.shape: (5784, 4)\n",
            "call compute_cost\n",
            "tmp_cost 12.8492\n"
          ]
        }
      ],
      "source": [
        "# Test the function\n",
        "tmp_C = 2\n",
        "tmp_N = 50\n",
        "tmp_batch_size = 4\n",
        "tmp_word2Ind, tmp_Ind2word = get_dict(data)\n",
        "tmp_V = len(word2Ind)\n",
        "\n",
        "tmp_x, tmp_y = next(get_batches(data, tmp_word2Ind, tmp_V,tmp_C, tmp_batch_size))\n",
        "\n",
        "print(f\"tmp_x.shape {tmp_x.shape}\")\n",
        "print(f\"tmp_y.shape {tmp_y.shape}\")\n",
        "\n",
        "tmp_W1, tmp_W2, tmp_b1, tmp_b2 = initialize_model(tmp_N,tmp_V)\n",
        "\n",
        "print(f\"tmp_W1.shape {tmp_W1.shape}\")\n",
        "print(f\"tmp_W2.shape {tmp_W2.shape}\")\n",
        "print(f\"tmp_b1.shape {tmp_b1.shape}\")\n",
        "print(f\"tmp_b2.shape {tmp_b2.shape}\")\n",
        "\n",
        "tmp_z, tmp_h = forward_prop(tmp_x, tmp_W1, tmp_W2, tmp_b1, tmp_b2)\n",
        "print(f\"tmp_z.shape: {tmp_z.shape}\")\n",
        "print(f\"tmp_h.shape: {tmp_h.shape}\")\n",
        "\n",
        "tmp_yhat = softmax(tmp_z)\n",
        "print(f\"tmp_yhat.shape: {tmp_yhat.shape}\")\n",
        "\n",
        "tmp_cost = compute_cost(tmp_y, tmp_yhat, tmp_batch_size)\n",
        "print(\"call compute_cost\")\n",
        "print(f\"tmp_cost {tmp_cost:.4f}\")"
      ]
    },
    {
      "cell_type": "markdown",
      "metadata": {
        "id": "DJA4e1YK5SdD"
      },
      "source": [
        "##### Expected output\n",
        "\n",
        "```CPP\n",
        "tmp_x.shape (5778, 4)\n",
        "tmp_y.shape (5778, 4)\n",
        "tmp_W1.shape (50, 5778)\n",
        "tmp_W2.shape (5778, 50)\n",
        "tmp_b1.shape (50, 1)\n",
        "tmp_b2.shape (5778, 1)\n",
        "tmp_z.shape: (5778, 4)\n",
        "tmp_h.shape: (50, 4)\n",
        "tmp_yhat.shape: (5778, 4)\n",
        "call compute_cost\n",
        "tmp_cost 9.9560\n",
        "```"
      ]
    },
    {
      "cell_type": "markdown",
      "metadata": {
        "id": "q3USEsxb5SdD"
      },
      "source": [
        "<a name='2.4'></a>\n",
        "## 2.4 Training the Model - Backpropagation\n",
        "\n",
        "<a name='ex-04'></a>\n",
        "### Exercise 04\n",
        "Now that you have understood how the CBOW model works, you will train it. <br>\n",
        "You created a function for the forward propagation. Now you will implement a function that computes the gradients to backpropagate the errors.\n",
        "\n"
      ]
    },
    {
      "cell_type": "code",
      "execution_count": 70,
      "metadata": {
        "tags": [],
        "id": "pxPUcsPu5SdD"
      },
      "outputs": [],
      "source": [
        "# GRADED FUNCTION: back_prop\n",
        "def back_prop(x, yhat, y, h, W1, W2, b1, b2, batch_size):\n",
        "    '''\n",
        "    Inputs:\n",
        "        x:  average one hot vector for the context\n",
        "        yhat: prediction (estimate of y)\n",
        "        y:  target vector\n",
        "        h:  hidden vector (see eq. 1)\n",
        "        W1, W2, b1, b2:  matrices and biases\n",
        "        batch_size: batch size\n",
        "     Outputs:\n",
        "        grad_W1, grad_W2, grad_b1, grad_b2:  gradients of matrices and biases\n",
        "    '''\n",
        "    ### START CODE HERE (Replace instanes of 'None' with your code) ###\n",
        "\n",
        "    # Compute l1 as W2^T (Yhat - Y)\n",
        "    # Re-use it whenever you see W2^T (Yhat - Y) used to compute a gradient\n",
        "    l1 = np.dot(W2.T, (yhat - y))\n",
        "    # Apply relu to l1\n",
        "    l1 = np.maximum(0, l1)\n",
        "    # Compute the gradient of W1\n",
        "    grad_W1 = np.dot(l1, x.T) / batch_size\n",
        "    # Compute the gradient of W2\n",
        "    grad_W2 = np.dot((yhat - y), h.T) / batch_size\n",
        "    # Compute the gradient of b1\n",
        "    grad_b1 = np.sum(l1, axis=1, keepdims=True) / batch_size\n",
        "    # Compute the gradient of b2\n",
        "    grad_b2 = np.sum((yhat - y), axis=1, keepdims=True) / batch_size\n",
        "    ### END CODE HERE ###\n",
        "\n",
        "    return grad_W1, grad_W2, grad_b1, grad_b2"
      ]
    },
    {
      "cell_type": "code",
      "execution_count": 71,
      "metadata": {
        "tags": [],
        "id": "tObjiLGl5SdD",
        "outputId": "919eb7ce-dd03-49d9-c0d0-fe52a46ba90c",
        "colab": {
          "base_uri": "https://localhost:8080/"
        }
      },
      "outputs": [
        {
          "output_type": "stream",
          "name": "stdout",
          "text": [
            "get a batch of data\n",
            "tmp_x.shape (5784, 4)\n",
            "tmp_y.shape (5784, 4)\n",
            "\n",
            "Initialize weights and biases\n",
            "tmp_W1.shape (50, 5784)\n",
            "tmp_W2.shape (5784, 50)\n",
            "tmp_b1.shape (50, 1)\n",
            "tmp_b2.shape (5784, 1)\n",
            "\n",
            "Forwad prop to get z and h\n",
            "tmp_z.shape: (5784, 4)\n",
            "tmp_h.shape: (50, 4)\n",
            "\n",
            "Get yhat by calling softmax\n",
            "tmp_yhat.shape: (5784, 4)\n",
            "\n",
            "call back_prop\n",
            "tmp_grad_W1.shape (50, 5784)\n",
            "tmp_grad_W2.shape (5784, 50)\n",
            "tmp_grad_b1.shape (50, 1)\n",
            "tmp_grad_b2.shape (5784, 1)\n"
          ]
        }
      ],
      "source": [
        "# Test the function\n",
        "tmp_C = 2\n",
        "tmp_N = 50\n",
        "tmp_batch_size = 4\n",
        "tmp_word2Ind, tmp_Ind2word = get_dict(data)\n",
        "tmp_V = len(word2Ind)\n",
        "\n",
        "# get a batch of data\n",
        "tmp_x, tmp_y = next(get_batches(data, tmp_word2Ind, tmp_V,tmp_C, tmp_batch_size))\n",
        "\n",
        "print(\"get a batch of data\")\n",
        "print(f\"tmp_x.shape {tmp_x.shape}\")\n",
        "print(f\"tmp_y.shape {tmp_y.shape}\")\n",
        "\n",
        "print()\n",
        "print(\"Initialize weights and biases\")\n",
        "tmp_W1, tmp_W2, tmp_b1, tmp_b2 = initialize_model(tmp_N,tmp_V)\n",
        "\n",
        "print(f\"tmp_W1.shape {tmp_W1.shape}\")\n",
        "print(f\"tmp_W2.shape {tmp_W2.shape}\")\n",
        "print(f\"tmp_b1.shape {tmp_b1.shape}\")\n",
        "print(f\"tmp_b2.shape {tmp_b2.shape}\")\n",
        "\n",
        "print()\n",
        "print(\"Forwad prop to get z and h\")\n",
        "tmp_z, tmp_h = forward_prop(tmp_x, tmp_W1, tmp_W2, tmp_b1, tmp_b2)\n",
        "print(f\"tmp_z.shape: {tmp_z.shape}\")\n",
        "print(f\"tmp_h.shape: {tmp_h.shape}\")\n",
        "\n",
        "print()\n",
        "print(\"Get yhat by calling softmax\")\n",
        "tmp_yhat = softmax(tmp_z)\n",
        "print(f\"tmp_yhat.shape: {tmp_yhat.shape}\")\n",
        "\n",
        "tmp_m = (2*tmp_C)\n",
        "tmp_grad_W1, tmp_grad_W2, tmp_grad_b1, tmp_grad_b2 = back_prop(tmp_x, tmp_yhat, tmp_y, tmp_h, tmp_W1, tmp_W2, tmp_b1, tmp_b2, tmp_batch_size)\n",
        "\n",
        "print()\n",
        "print(\"call back_prop\")\n",
        "print(f\"tmp_grad_W1.shape {tmp_grad_W1.shape}\")\n",
        "print(f\"tmp_grad_W2.shape {tmp_grad_W2.shape}\")\n",
        "print(f\"tmp_grad_b1.shape {tmp_grad_b1.shape}\")\n",
        "print(f\"tmp_grad_b2.shape {tmp_grad_b2.shape}\")"
      ]
    },
    {
      "cell_type": "markdown",
      "metadata": {
        "id": "Eac47CjL5SdD"
      },
      "source": [
        "##### Expected output\n",
        "\n",
        "```CPP\n",
        "get a batch of data\n",
        "tmp_x.shape (5778, 4)\n",
        "tmp_y.shape (5778, 4)\n",
        "\n",
        "Initialize weights and biases\n",
        "tmp_W1.shape (50, 5778)\n",
        "tmp_W2.shape (5778, 50)\n",
        "tmp_b1.shape (50, 1)\n",
        "tmp_b2.shape (5778, 1)\n",
        "\n",
        "Forwad prop to get z and h\n",
        "tmp_z.shape: (5778, 4)\n",
        "tmp_h.shape: (50, 4)\n",
        "\n",
        "Get yhat by calling softmax\n",
        "tmp_yhat.shape: (5778, 4)\n",
        "\n",
        "call back_prop\n",
        "tmp_grad_W1.shape (50, 5778)\n",
        "tmp_grad_W2.shape (5778, 50)\n",
        "tmp_grad_b1.shape (50, 1)\n",
        "tmp_grad_b2.shape (5778, 1)\n",
        "```"
      ]
    },
    {
      "cell_type": "markdown",
      "metadata": {
        "id": "nSavNNVX5SdD"
      },
      "source": [
        "<a name='2.5'></a>\n",
        "## Gradient Descent\n",
        "\n",
        "<a name='ex-05'></a>\n",
        "### Exercise 05\n",
        "Now that you have implemented a function to compute the gradients, you will implement batch gradient descent over your training set.\n",
        "\n",
        "**Hint:** For that, you will use `initialize_model` and the `back_prop` functions which you just created (and the `compute_cost` function). You can also use the provided `get_batches` helper function:\n",
        "\n",
        "```for x, y in get_batches(data, word2Ind, V, C, batch_size):```\n",
        "\n",
        "```...```\n",
        "\n",
        "Also: print the cost after each batch is processed (use batch size = 128)"
      ]
    },
    {
      "cell_type": "code",
      "execution_count": 74,
      "metadata": {
        "tags": [],
        "id": "l3V6SOwE5SdE"
      },
      "outputs": [],
      "source": [
        "# GRADED FUNCTION: gradient_descent\n",
        "def gradient_descent(data, word2Ind, N, V, num_iters, alpha=0.03):\n",
        "\n",
        "    '''\n",
        "    This is the gradient_descent function\n",
        "\n",
        "      Inputs:\n",
        "        data:      text\n",
        "        word2Ind:  words to Indices\n",
        "        N:         dimension of hidden vector\n",
        "        V:         dimension of vocabulary\n",
        "        num_iters: number of iterations\n",
        "     Outputs:\n",
        "        W1, W2, b1, b2:  updated matrices and biases\n",
        "\n",
        "    '''\n",
        "    W1, W2, b1, b2 = initialize_model(N,V, random_seed=282)\n",
        "    batch_size = 128\n",
        "    iters = 0\n",
        "    C = 2\n",
        "    for x, y in get_batches(data, word2Ind, V, C, batch_size):\n",
        "        ### START CODE HERE (Replace instances of 'None' with your own code) ###\n",
        "        # Get z and h\n",
        "        z, h = forward_prop(x, W1, W2, b1, b2)\n",
        "\n",
        "        # Get yhat\n",
        "        yhat = softmax(z)\n",
        "\n",
        "        # Get cost\n",
        "        cost = compute_cost(y, yhat, batch_size)\n",
        "        if ( (iters+1) % 10 == 0):\n",
        "            print(f\"iters: {iters + 1} cost: {cost:.6f}\")\n",
        "\n",
        "        if ((iters + 1) % 10 == 0):\n",
        "            print(f\"iters: {iters + 1} cost: {cost:.6f}\")\n",
        "\n",
        "        # Get gradients\n",
        "        grad_W1, grad_W2, grad_b1, grad_b2 = back_prop(x, yhat, y, h, W1, W2, b1, b2, batch_size)\n",
        "\n",
        "        # Update weights and biases\n",
        "        W1 -= grad_W1 * alpha\n",
        "        W2 -= grad_W2 * alpha\n",
        "        b1 -= grad_b1 * alpha\n",
        "        b2 -= grad_b2 * alpha\n",
        "\n",
        "        ### END CODE HERE ###\n",
        "\n",
        "        iters += 1\n",
        "        if iters == num_iters:\n",
        "            break\n",
        "        if iters % 100 == 0:\n",
        "            alpha *= 0.66\n",
        "\n",
        "    return W1, W2, b1, b2"
      ]
    },
    {
      "cell_type": "code",
      "execution_count": 75,
      "metadata": {
        "tags": [],
        "id": "J-TIz1HI5SdE",
        "outputId": "51560e03-5c6c-49a6-c457-11252dab1e06",
        "colab": {
          "base_uri": "https://localhost:8080/"
        }
      },
      "outputs": [
        {
          "output_type": "stream",
          "name": "stdout",
          "text": [
            "Call gradient_descent\n",
            "iters: 10 cost: 0.467292\n",
            "iters: 10 cost: 0.467292\n",
            "iters: 20 cost: 0.111399\n",
            "iters: 20 cost: 0.111399\n",
            "iters: 30 cost: 0.062709\n",
            "iters: 30 cost: 0.062709\n",
            "iters: 40 cost: 0.043602\n",
            "iters: 40 cost: 0.043602\n",
            "iters: 50 cost: 0.033414\n",
            "iters: 50 cost: 0.033414\n",
            "iters: 60 cost: 0.027085\n",
            "iters: 60 cost: 0.027085\n",
            "iters: 70 cost: 0.022772\n",
            "iters: 70 cost: 0.022772\n",
            "iters: 80 cost: 0.019644\n",
            "iters: 80 cost: 0.019644\n",
            "iters: 90 cost: 0.017272\n",
            "iters: 90 cost: 0.017272\n",
            "iters: 100 cost: 0.015412\n",
            "iters: 100 cost: 0.015412\n",
            "iters: 110 cost: 0.014341\n",
            "iters: 110 cost: 0.014341\n",
            "iters: 120 cost: 0.013453\n",
            "iters: 120 cost: 0.013453\n",
            "iters: 130 cost: 0.012668\n",
            "iters: 130 cost: 0.012668\n",
            "iters: 140 cost: 0.011970\n",
            "iters: 140 cost: 0.011970\n",
            "iters: 150 cost: 0.011345\n",
            "iters: 150 cost: 0.011345\n"
          ]
        }
      ],
      "source": [
        "# test your function\n",
        "C = 2\n",
        "N = 50\n",
        "word2Ind, Ind2word = get_dict(data)\n",
        "V = len(word2Ind)\n",
        "num_iters = 150\n",
        "print(\"Call gradient_descent\")\n",
        "W1, W2, b1, b2 = gradient_descent(data, word2Ind, N, V, num_iters)"
      ]
    },
    {
      "cell_type": "markdown",
      "metadata": {
        "id": "OQHnagZ45SdE"
      },
      "source": [
        "##### Expected Output\n",
        "\n",
        "\n",
        "```CPP\n",
        "iters: 10 cost: 0.789141\n",
        "iters: 20 cost: 0.105543\n",
        "iters: 30 cost: 0.056008\n",
        "iters: 40 cost: 0.038101\n",
        "iters: 50 cost: 0.028868\n",
        "iters: 60 cost: 0.023237\n",
        "iters: 70 cost: 0.019444\n",
        "iters: 80 cost: 0.016716\n",
        "iters: 90 cost: 0.014660\n",
        "iters: 100 cost: 0.013054\n",
        "iters: 110 cost: 0.012133\n",
        "iters: 120 cost: 0.011370\n",
        "iters: 130 cost: 0.010698\n",
        "iters: 140 cost: 0.010100\n",
        "iters: 150 cost: 0.009566\n",
        "```\n",
        "\n",
        "Your numbers may differ a bit depending on which version of Python you're using."
      ]
    },
    {
      "cell_type": "markdown",
      "metadata": {
        "id": "q92ploJb5SdE"
      },
      "source": [
        "<a name='3'></a>\n",
        "## 3.0 Visualizing the word vectors\n",
        "\n",
        "In this part you will visualize the word vectors trained using the function you just coded above."
      ]
    },
    {
      "cell_type": "code",
      "execution_count": 76,
      "metadata": {
        "tags": [],
        "id": "QHE2w9NY5SdE",
        "outputId": "869d9950-7ddf-46e5-9e80-702c24244138",
        "colab": {
          "base_uri": "https://localhost:8080/"
        }
      },
      "outputs": [
        {
          "output_type": "stream",
          "name": "stdout",
          "text": [
            "(10, 50) [2747, 3953, 2963, 3025, 5681, 1455, 5680, 4193, 2318, 4281]\n"
          ]
        }
      ],
      "source": [
        "# visualizing the word vectors here\n",
        "from matplotlib import pyplot\n",
        "%config InlineBackend.figure_format = 'svg'\n",
        "words = ['king', 'queen','lord','man', 'woman','dog','wolf',\n",
        "         'rich','happy','sad']\n",
        "\n",
        "embs = (W1.T + W2)/2.0\n",
        "\n",
        "# given a list of words and the embeddings, it returns a matrix with all the embeddings\n",
        "idx = [word2Ind[word] for word in words]\n",
        "X = embs[idx, :]\n",
        "print(X.shape, idx)  # X.shape:  Number of words of dimension N each"
      ]
    },
    {
      "cell_type": "code",
      "execution_count": 77,
      "metadata": {
        "tags": [],
        "id": "0t7xNVmA5SdF",
        "outputId": "c39ff4c0-0878-4a45-dd8d-600e3b44bb40",
        "colab": {
          "base_uri": "https://localhost:8080/",
          "height": 418
        }
      },
      "outputs": [
        {
          "output_type": "display_data",
          "data": {
            "text/plain": [
              "<Figure size 640x480 with 1 Axes>"
            ],
            "image/svg+xml": "<?xml version=\"1.0\" encoding=\"utf-8\" standalone=\"no\"?>\n<!DOCTYPE svg PUBLIC \"-//W3C//DTD SVG 1.1//EN\"\n  \"http://www.w3.org/Graphics/SVG/1.1/DTD/svg11.dtd\">\n<svg xmlns:xlink=\"http://www.w3.org/1999/xlink\" width=\"410.618523pt\" height=\"297.190125pt\" viewBox=\"0 0 410.618523 297.190125\" xmlns=\"http://www.w3.org/2000/svg\" version=\"1.1\">\n <metadata>\n  <rdf:RDF xmlns:dc=\"http://purl.org/dc/elements/1.1/\" xmlns:cc=\"http://creativecommons.org/ns#\" xmlns:rdf=\"http://www.w3.org/1999/02/22-rdf-syntax-ns#\">\n   <cc:Work>\n    <dc:type rdf:resource=\"http://purl.org/dc/dcmitype/StillImage\"/>\n    <dc:date>2025-03-13T01:15:42.024627</dc:date>\n    <dc:format>image/svg+xml</dc:format>\n    <dc:creator>\n     <cc:Agent>\n      <dc:title>Matplotlib v3.10.0, https://matplotlib.org/</dc:title>\n     </cc:Agent>\n    </dc:creator>\n   </cc:Work>\n  </rdf:RDF>\n </metadata>\n <defs>\n  <style type=\"text/css\">*{stroke-linejoin: round; stroke-linecap: butt}</style>\n </defs>\n <g id=\"figure_1\">\n  <g id=\"patch_1\">\n   <path d=\"M 0 297.190125 \nL 410.618523 297.190125 \nL 410.618523 0 \nL 0 0 \nz\n\" style=\"fill: #ffffff\"/>\n  </g>\n  <g id=\"axes_1\">\n   <g id=\"patch_2\">\n    <path d=\"M 44.845313 273.312 \nL 401.965312 273.312 \nL 401.965312 7.2 \nL 44.845313 7.2 \nz\n\" style=\"fill: #ffffff\"/>\n   </g>\n   <g id=\"PathCollection_1\">\n    <defs>\n     <path id=\"ma258471024\" d=\"M 0 3 \nC 0.795609 3 1.55874 2.683901 2.12132 2.12132 \nC 2.683901 1.55874 3 0.795609 3 0 \nC 3 -0.795609 2.683901 -1.55874 2.12132 -2.12132 \nC 1.55874 -2.683901 0.795609 -3 0 -3 \nC -0.795609 -3 -1.55874 -2.683901 -2.12132 -2.12132 \nC -2.683901 -1.55874 -3 -0.795609 -3 0 \nC -3 0.795609 -2.683901 1.55874 -2.12132 2.12132 \nC -1.55874 2.683901 -0.795609 3 0 3 \nz\n\" style=\"stroke: #1f77b4\"/>\n    </defs>\n    <g clip-path=\"url(#pab76f6adcf)\">\n     <use xlink:href=\"#ma258471024\" x=\"183.358496\" y=\"234.153925\" style=\"fill: #1f77b4; stroke: #1f77b4\"/>\n     <use xlink:href=\"#ma258471024\" x=\"61.07804\" y=\"167.441656\" style=\"fill: #1f77b4; stroke: #1f77b4\"/>\n     <use xlink:href=\"#ma258471024\" x=\"289.030784\" y=\"19.296\" style=\"fill: #1f77b4; stroke: #1f77b4\"/>\n     <use xlink:href=\"#ma258471024\" x=\"198.994652\" y=\"250.190309\" style=\"fill: #1f77b4; stroke: #1f77b4\"/>\n     <use xlink:href=\"#ma258471024\" x=\"334.780071\" y=\"168.549711\" style=\"fill: #1f77b4; stroke: #1f77b4\"/>\n     <use xlink:href=\"#ma258471024\" x=\"303.707681\" y=\"239.142369\" style=\"fill: #1f77b4; stroke: #1f77b4\"/>\n     <use xlink:href=\"#ma258471024\" x=\"249.192638\" y=\"179.588159\" style=\"fill: #1f77b4; stroke: #1f77b4\"/>\n     <use xlink:href=\"#ma258471024\" x=\"86.480285\" y=\"204.026334\" style=\"fill: #1f77b4; stroke: #1f77b4\"/>\n     <use xlink:href=\"#ma258471024\" x=\"230.908871\" y=\"210.391057\" style=\"fill: #1f77b4; stroke: #1f77b4\"/>\n     <use xlink:href=\"#ma258471024\" x=\"385.732585\" y=\"261.216\" style=\"fill: #1f77b4; stroke: #1f77b4\"/>\n    </g>\n   </g>\n   <g id=\"matplotlib.axis_1\">\n    <g id=\"xtick_1\">\n     <g id=\"line2d_1\">\n      <defs>\n       <path id=\"me716f9d1be\" d=\"M 0 0 \nL 0 3.5 \n\" style=\"stroke: #000000; stroke-width: 0.8\"/>\n      </defs>\n      <g>\n       <use xlink:href=\"#me716f9d1be\" x=\"54.683139\" y=\"273.312\" style=\"stroke: #000000; stroke-width: 0.8\"/>\n      </g>\n     </g>\n     <g id=\"text_1\">\n      <!-- −1.00 -->\n      <g transform=\"translate(39.360483 287.910437) scale(0.1 -0.1)\">\n       <defs>\n        <path id=\"DejaVuSans-2212\" d=\"M 678 2272 \nL 4684 2272 \nL 4684 1741 \nL 678 1741 \nL 678 2272 \nz\n\" transform=\"scale(0.015625)\"/>\n        <path id=\"DejaVuSans-31\" d=\"M 794 531 \nL 1825 531 \nL 1825 4091 \nL 703 3866 \nL 703 4441 \nL 1819 4666 \nL 2450 4666 \nL 2450 531 \nL 3481 531 \nL 3481 0 \nL 794 0 \nL 794 531 \nz\n\" transform=\"scale(0.015625)\"/>\n        <path id=\"DejaVuSans-2e\" d=\"M 684 794 \nL 1344 794 \nL 1344 0 \nL 684 0 \nL 684 794 \nz\n\" transform=\"scale(0.015625)\"/>\n        <path id=\"DejaVuSans-30\" d=\"M 2034 4250 \nQ 1547 4250 1301 3770 \nQ 1056 3291 1056 2328 \nQ 1056 1369 1301 889 \nQ 1547 409 2034 409 \nQ 2525 409 2770 889 \nQ 3016 1369 3016 2328 \nQ 3016 3291 2770 3770 \nQ 2525 4250 2034 4250 \nz\nM 2034 4750 \nQ 2819 4750 3233 4129 \nQ 3647 3509 3647 2328 \nQ 3647 1150 3233 529 \nQ 2819 -91 2034 -91 \nQ 1250 -91 836 529 \nQ 422 1150 422 2328 \nQ 422 3509 836 4129 \nQ 1250 4750 2034 4750 \nz\n\" transform=\"scale(0.015625)\"/>\n       </defs>\n       <use xlink:href=\"#DejaVuSans-2212\"/>\n       <use xlink:href=\"#DejaVuSans-31\" transform=\"translate(83.789062 0)\"/>\n       <use xlink:href=\"#DejaVuSans-2e\" transform=\"translate(147.412109 0)\"/>\n       <use xlink:href=\"#DejaVuSans-30\" transform=\"translate(179.199219 0)\"/>\n       <use xlink:href=\"#DejaVuSans-30\" transform=\"translate(242.822266 0)\"/>\n      </g>\n     </g>\n    </g>\n    <g id=\"xtick_2\">\n     <g id=\"line2d_2\">\n      <g>\n       <use xlink:href=\"#me716f9d1be\" x=\"99.093957\" y=\"273.312\" style=\"stroke: #000000; stroke-width: 0.8\"/>\n      </g>\n     </g>\n     <g id=\"text_2\">\n      <!-- −0.75 -->\n      <g transform=\"translate(83.771301 287.910437) scale(0.1 -0.1)\">\n       <defs>\n        <path id=\"DejaVuSans-37\" d=\"M 525 4666 \nL 3525 4666 \nL 3525 4397 \nL 1831 0 \nL 1172 0 \nL 2766 4134 \nL 525 4134 \nL 525 4666 \nz\n\" transform=\"scale(0.015625)\"/>\n        <path id=\"DejaVuSans-35\" d=\"M 691 4666 \nL 3169 4666 \nL 3169 4134 \nL 1269 4134 \nL 1269 2991 \nQ 1406 3038 1543 3061 \nQ 1681 3084 1819 3084 \nQ 2600 3084 3056 2656 \nQ 3513 2228 3513 1497 \nQ 3513 744 3044 326 \nQ 2575 -91 1722 -91 \nQ 1428 -91 1123 -41 \nQ 819 9 494 109 \nL 494 744 \nQ 775 591 1075 516 \nQ 1375 441 1709 441 \nQ 2250 441 2565 725 \nQ 2881 1009 2881 1497 \nQ 2881 1984 2565 2268 \nQ 2250 2553 1709 2553 \nQ 1456 2553 1204 2497 \nQ 953 2441 691 2322 \nL 691 4666 \nz\n\" transform=\"scale(0.015625)\"/>\n       </defs>\n       <use xlink:href=\"#DejaVuSans-2212\"/>\n       <use xlink:href=\"#DejaVuSans-30\" transform=\"translate(83.789062 0)\"/>\n       <use xlink:href=\"#DejaVuSans-2e\" transform=\"translate(147.412109 0)\"/>\n       <use xlink:href=\"#DejaVuSans-37\" transform=\"translate(179.199219 0)\"/>\n       <use xlink:href=\"#DejaVuSans-35\" transform=\"translate(242.822266 0)\"/>\n      </g>\n     </g>\n    </g>\n    <g id=\"xtick_3\">\n     <g id=\"line2d_3\">\n      <g>\n       <use xlink:href=\"#me716f9d1be\" x=\"143.504775\" y=\"273.312\" style=\"stroke: #000000; stroke-width: 0.8\"/>\n      </g>\n     </g>\n     <g id=\"text_3\">\n      <!-- −0.50 -->\n      <g transform=\"translate(128.182119 287.910437) scale(0.1 -0.1)\">\n       <use xlink:href=\"#DejaVuSans-2212\"/>\n       <use xlink:href=\"#DejaVuSans-30\" transform=\"translate(83.789062 0)\"/>\n       <use xlink:href=\"#DejaVuSans-2e\" transform=\"translate(147.412109 0)\"/>\n       <use xlink:href=\"#DejaVuSans-35\" transform=\"translate(179.199219 0)\"/>\n       <use xlink:href=\"#DejaVuSans-30\" transform=\"translate(242.822266 0)\"/>\n      </g>\n     </g>\n    </g>\n    <g id=\"xtick_4\">\n     <g id=\"line2d_4\">\n      <g>\n       <use xlink:href=\"#me716f9d1be\" x=\"187.915593\" y=\"273.312\" style=\"stroke: #000000; stroke-width: 0.8\"/>\n      </g>\n     </g>\n     <g id=\"text_4\">\n      <!-- −0.25 -->\n      <g transform=\"translate(172.592936 287.910437) scale(0.1 -0.1)\">\n       <defs>\n        <path id=\"DejaVuSans-32\" d=\"M 1228 531 \nL 3431 531 \nL 3431 0 \nL 469 0 \nL 469 531 \nQ 828 903 1448 1529 \nQ 2069 2156 2228 2338 \nQ 2531 2678 2651 2914 \nQ 2772 3150 2772 3378 \nQ 2772 3750 2511 3984 \nQ 2250 4219 1831 4219 \nQ 1534 4219 1204 4116 \nQ 875 4013 500 3803 \nL 500 4441 \nQ 881 4594 1212 4672 \nQ 1544 4750 1819 4750 \nQ 2544 4750 2975 4387 \nQ 3406 4025 3406 3419 \nQ 3406 3131 3298 2873 \nQ 3191 2616 2906 2266 \nQ 2828 2175 2409 1742 \nQ 1991 1309 1228 531 \nz\n\" transform=\"scale(0.015625)\"/>\n       </defs>\n       <use xlink:href=\"#DejaVuSans-2212\"/>\n       <use xlink:href=\"#DejaVuSans-30\" transform=\"translate(83.789062 0)\"/>\n       <use xlink:href=\"#DejaVuSans-2e\" transform=\"translate(147.412109 0)\"/>\n       <use xlink:href=\"#DejaVuSans-32\" transform=\"translate(179.199219 0)\"/>\n       <use xlink:href=\"#DejaVuSans-35\" transform=\"translate(242.822266 0)\"/>\n      </g>\n     </g>\n    </g>\n    <g id=\"xtick_5\">\n     <g id=\"line2d_5\">\n      <g>\n       <use xlink:href=\"#me716f9d1be\" x=\"232.32641\" y=\"273.312\" style=\"stroke: #000000; stroke-width: 0.8\"/>\n      </g>\n     </g>\n     <g id=\"text_5\">\n      <!-- 0.00 -->\n      <g transform=\"translate(221.193598 287.910437) scale(0.1 -0.1)\">\n       <use xlink:href=\"#DejaVuSans-30\"/>\n       <use xlink:href=\"#DejaVuSans-2e\" transform=\"translate(63.623047 0)\"/>\n       <use xlink:href=\"#DejaVuSans-30\" transform=\"translate(95.410156 0)\"/>\n       <use xlink:href=\"#DejaVuSans-30\" transform=\"translate(159.033203 0)\"/>\n      </g>\n     </g>\n    </g>\n    <g id=\"xtick_6\">\n     <g id=\"line2d_6\">\n      <g>\n       <use xlink:href=\"#me716f9d1be\" x=\"276.737228\" y=\"273.312\" style=\"stroke: #000000; stroke-width: 0.8\"/>\n      </g>\n     </g>\n     <g id=\"text_6\">\n      <!-- 0.25 -->\n      <g transform=\"translate(265.604416 287.910437) scale(0.1 -0.1)\">\n       <use xlink:href=\"#DejaVuSans-30\"/>\n       <use xlink:href=\"#DejaVuSans-2e\" transform=\"translate(63.623047 0)\"/>\n       <use xlink:href=\"#DejaVuSans-32\" transform=\"translate(95.410156 0)\"/>\n       <use xlink:href=\"#DejaVuSans-35\" transform=\"translate(159.033203 0)\"/>\n      </g>\n     </g>\n    </g>\n    <g id=\"xtick_7\">\n     <g id=\"line2d_7\">\n      <g>\n       <use xlink:href=\"#me716f9d1be\" x=\"321.148046\" y=\"273.312\" style=\"stroke: #000000; stroke-width: 0.8\"/>\n      </g>\n     </g>\n     <g id=\"text_7\">\n      <!-- 0.50 -->\n      <g transform=\"translate(310.015233 287.910437) scale(0.1 -0.1)\">\n       <use xlink:href=\"#DejaVuSans-30\"/>\n       <use xlink:href=\"#DejaVuSans-2e\" transform=\"translate(63.623047 0)\"/>\n       <use xlink:href=\"#DejaVuSans-35\" transform=\"translate(95.410156 0)\"/>\n       <use xlink:href=\"#DejaVuSans-30\" transform=\"translate(159.033203 0)\"/>\n      </g>\n     </g>\n    </g>\n    <g id=\"xtick_8\">\n     <g id=\"line2d_8\">\n      <g>\n       <use xlink:href=\"#me716f9d1be\" x=\"365.558864\" y=\"273.312\" style=\"stroke: #000000; stroke-width: 0.8\"/>\n      </g>\n     </g>\n     <g id=\"text_8\">\n      <!-- 0.75 -->\n      <g transform=\"translate(354.426051 287.910437) scale(0.1 -0.1)\">\n       <use xlink:href=\"#DejaVuSans-30\"/>\n       <use xlink:href=\"#DejaVuSans-2e\" transform=\"translate(63.623047 0)\"/>\n       <use xlink:href=\"#DejaVuSans-37\" transform=\"translate(95.410156 0)\"/>\n       <use xlink:href=\"#DejaVuSans-35\" transform=\"translate(159.033203 0)\"/>\n      </g>\n     </g>\n    </g>\n   </g>\n   <g id=\"matplotlib.axis_2\">\n    <g id=\"ytick_1\">\n     <g id=\"line2d_9\">\n      <defs>\n       <path id=\"m759f4af34e\" d=\"M 0 0 \nL -3.5 0 \n\" style=\"stroke: #000000; stroke-width: 0.8\"/>\n      </defs>\n      <g>\n       <use xlink:href=\"#m759f4af34e\" x=\"44.845313\" y=\"257.013501\" style=\"stroke: #000000; stroke-width: 0.8\"/>\n      </g>\n     </g>\n     <g id=\"text_9\">\n      <!-- −0.50 -->\n      <g transform=\"translate(7.2 260.812719) scale(0.1 -0.1)\">\n       <use xlink:href=\"#DejaVuSans-2212\"/>\n       <use xlink:href=\"#DejaVuSans-30\" transform=\"translate(83.789062 0)\"/>\n       <use xlink:href=\"#DejaVuSans-2e\" transform=\"translate(147.412109 0)\"/>\n       <use xlink:href=\"#DejaVuSans-35\" transform=\"translate(179.199219 0)\"/>\n       <use xlink:href=\"#DejaVuSans-30\" transform=\"translate(242.822266 0)\"/>\n      </g>\n     </g>\n    </g>\n    <g id=\"ytick_2\">\n     <g id=\"line2d_10\">\n      <g>\n       <use xlink:href=\"#m759f4af34e\" x=\"44.845313\" y=\"225.206526\" style=\"stroke: #000000; stroke-width: 0.8\"/>\n      </g>\n     </g>\n     <g id=\"text_10\">\n      <!-- −0.25 -->\n      <g transform=\"translate(7.2 229.005745) scale(0.1 -0.1)\">\n       <use xlink:href=\"#DejaVuSans-2212\"/>\n       <use xlink:href=\"#DejaVuSans-30\" transform=\"translate(83.789062 0)\"/>\n       <use xlink:href=\"#DejaVuSans-2e\" transform=\"translate(147.412109 0)\"/>\n       <use xlink:href=\"#DejaVuSans-32\" transform=\"translate(179.199219 0)\"/>\n       <use xlink:href=\"#DejaVuSans-35\" transform=\"translate(242.822266 0)\"/>\n      </g>\n     </g>\n    </g>\n    <g id=\"ytick_3\">\n     <g id=\"line2d_11\">\n      <g>\n       <use xlink:href=\"#m759f4af34e\" x=\"44.845313\" y=\"193.399552\" style=\"stroke: #000000; stroke-width: 0.8\"/>\n      </g>\n     </g>\n     <g id=\"text_11\">\n      <!-- 0.00 -->\n      <g transform=\"translate(15.579688 197.198771) scale(0.1 -0.1)\">\n       <use xlink:href=\"#DejaVuSans-30\"/>\n       <use xlink:href=\"#DejaVuSans-2e\" transform=\"translate(63.623047 0)\"/>\n       <use xlink:href=\"#DejaVuSans-30\" transform=\"translate(95.410156 0)\"/>\n       <use xlink:href=\"#DejaVuSans-30\" transform=\"translate(159.033203 0)\"/>\n      </g>\n     </g>\n    </g>\n    <g id=\"ytick_4\">\n     <g id=\"line2d_12\">\n      <g>\n       <use xlink:href=\"#m759f4af34e\" x=\"44.845313\" y=\"161.592578\" style=\"stroke: #000000; stroke-width: 0.8\"/>\n      </g>\n     </g>\n     <g id=\"text_12\">\n      <!-- 0.25 -->\n      <g transform=\"translate(15.579688 165.391797) scale(0.1 -0.1)\">\n       <use xlink:href=\"#DejaVuSans-30\"/>\n       <use xlink:href=\"#DejaVuSans-2e\" transform=\"translate(63.623047 0)\"/>\n       <use xlink:href=\"#DejaVuSans-32\" transform=\"translate(95.410156 0)\"/>\n       <use xlink:href=\"#DejaVuSans-35\" transform=\"translate(159.033203 0)\"/>\n      </g>\n     </g>\n    </g>\n    <g id=\"ytick_5\">\n     <g id=\"line2d_13\">\n      <g>\n       <use xlink:href=\"#m759f4af34e\" x=\"44.845313\" y=\"129.785604\" style=\"stroke: #000000; stroke-width: 0.8\"/>\n      </g>\n     </g>\n     <g id=\"text_13\">\n      <!-- 0.50 -->\n      <g transform=\"translate(15.579688 133.584822) scale(0.1 -0.1)\">\n       <use xlink:href=\"#DejaVuSans-30\"/>\n       <use xlink:href=\"#DejaVuSans-2e\" transform=\"translate(63.623047 0)\"/>\n       <use xlink:href=\"#DejaVuSans-35\" transform=\"translate(95.410156 0)\"/>\n       <use xlink:href=\"#DejaVuSans-30\" transform=\"translate(159.033203 0)\"/>\n      </g>\n     </g>\n    </g>\n    <g id=\"ytick_6\">\n     <g id=\"line2d_14\">\n      <g>\n       <use xlink:href=\"#m759f4af34e\" x=\"44.845313\" y=\"97.978629\" style=\"stroke: #000000; stroke-width: 0.8\"/>\n      </g>\n     </g>\n     <g id=\"text_14\">\n      <!-- 0.75 -->\n      <g transform=\"translate(15.579688 101.777848) scale(0.1 -0.1)\">\n       <use xlink:href=\"#DejaVuSans-30\"/>\n       <use xlink:href=\"#DejaVuSans-2e\" transform=\"translate(63.623047 0)\"/>\n       <use xlink:href=\"#DejaVuSans-37\" transform=\"translate(95.410156 0)\"/>\n       <use xlink:href=\"#DejaVuSans-35\" transform=\"translate(159.033203 0)\"/>\n      </g>\n     </g>\n    </g>\n    <g id=\"ytick_7\">\n     <g id=\"line2d_15\">\n      <g>\n       <use xlink:href=\"#m759f4af34e\" x=\"44.845313\" y=\"66.171655\" style=\"stroke: #000000; stroke-width: 0.8\"/>\n      </g>\n     </g>\n     <g id=\"text_15\">\n      <!-- 1.00 -->\n      <g transform=\"translate(15.579688 69.970874) scale(0.1 -0.1)\">\n       <use xlink:href=\"#DejaVuSans-31\"/>\n       <use xlink:href=\"#DejaVuSans-2e\" transform=\"translate(63.623047 0)\"/>\n       <use xlink:href=\"#DejaVuSans-30\" transform=\"translate(95.410156 0)\"/>\n       <use xlink:href=\"#DejaVuSans-30\" transform=\"translate(159.033203 0)\"/>\n      </g>\n     </g>\n    </g>\n    <g id=\"ytick_8\">\n     <g id=\"line2d_16\">\n      <g>\n       <use xlink:href=\"#m759f4af34e\" x=\"44.845313\" y=\"34.364681\" style=\"stroke: #000000; stroke-width: 0.8\"/>\n      </g>\n     </g>\n     <g id=\"text_16\">\n      <!-- 1.25 -->\n      <g transform=\"translate(15.579688 38.1639) scale(0.1 -0.1)\">\n       <use xlink:href=\"#DejaVuSans-31\"/>\n       <use xlink:href=\"#DejaVuSans-2e\" transform=\"translate(63.623047 0)\"/>\n       <use xlink:href=\"#DejaVuSans-32\" transform=\"translate(95.410156 0)\"/>\n       <use xlink:href=\"#DejaVuSans-35\" transform=\"translate(159.033203 0)\"/>\n      </g>\n     </g>\n    </g>\n   </g>\n   <g id=\"patch_3\">\n    <path d=\"M 44.845313 273.312 \nL 44.845313 7.2 \n\" style=\"fill: none; stroke: #000000; stroke-width: 0.8; stroke-linejoin: miter; stroke-linecap: square\"/>\n   </g>\n   <g id=\"patch_4\">\n    <path d=\"M 401.965312 273.312 \nL 401.965312 7.2 \n\" style=\"fill: none; stroke: #000000; stroke-width: 0.8; stroke-linejoin: miter; stroke-linecap: square\"/>\n   </g>\n   <g id=\"patch_5\">\n    <path d=\"M 44.845313 273.312 \nL 401.965313 273.312 \n\" style=\"fill: none; stroke: #000000; stroke-width: 0.8; stroke-linejoin: miter; stroke-linecap: square\"/>\n   </g>\n   <g id=\"patch_6\">\n    <path d=\"M 44.845313 7.2 \nL 401.965313 7.2 \n\" style=\"fill: none; stroke: #000000; stroke-width: 0.8; stroke-linejoin: miter; stroke-linecap: square\"/>\n   </g>\n   <g id=\"text_17\">\n    <!-- king -->\n    <g transform=\"translate(183.358496 234.153925) scale(0.1 -0.1)\">\n     <defs>\n      <path id=\"DejaVuSans-6b\" d=\"M 581 4863 \nL 1159 4863 \nL 1159 1991 \nL 2875 3500 \nL 3609 3500 \nL 1753 1863 \nL 3688 0 \nL 2938 0 \nL 1159 1709 \nL 1159 0 \nL 581 0 \nL 581 4863 \nz\n\" transform=\"scale(0.015625)\"/>\n      <path id=\"DejaVuSans-69\" d=\"M 603 3500 \nL 1178 3500 \nL 1178 0 \nL 603 0 \nL 603 3500 \nz\nM 603 4863 \nL 1178 4863 \nL 1178 4134 \nL 603 4134 \nL 603 4863 \nz\n\" transform=\"scale(0.015625)\"/>\n      <path id=\"DejaVuSans-6e\" d=\"M 3513 2113 \nL 3513 0 \nL 2938 0 \nL 2938 2094 \nQ 2938 2591 2744 2837 \nQ 2550 3084 2163 3084 \nQ 1697 3084 1428 2787 \nQ 1159 2491 1159 1978 \nL 1159 0 \nL 581 0 \nL 581 3500 \nL 1159 3500 \nL 1159 2956 \nQ 1366 3272 1645 3428 \nQ 1925 3584 2291 3584 \nQ 2894 3584 3203 3211 \nQ 3513 2838 3513 2113 \nz\n\" transform=\"scale(0.015625)\"/>\n      <path id=\"DejaVuSans-67\" d=\"M 2906 1791 \nQ 2906 2416 2648 2759 \nQ 2391 3103 1925 3103 \nQ 1463 3103 1205 2759 \nQ 947 2416 947 1791 \nQ 947 1169 1205 825 \nQ 1463 481 1925 481 \nQ 2391 481 2648 825 \nQ 2906 1169 2906 1791 \nz\nM 3481 434 \nQ 3481 -459 3084 -895 \nQ 2688 -1331 1869 -1331 \nQ 1566 -1331 1297 -1286 \nQ 1028 -1241 775 -1147 \nL 775 -588 \nQ 1028 -725 1275 -790 \nQ 1522 -856 1778 -856 \nQ 2344 -856 2625 -561 \nQ 2906 -266 2906 331 \nL 2906 616 \nQ 2728 306 2450 153 \nQ 2172 0 1784 0 \nQ 1141 0 747 490 \nQ 353 981 353 1791 \nQ 353 2603 747 3093 \nQ 1141 3584 1784 3584 \nQ 2172 3584 2450 3431 \nQ 2728 3278 2906 2969 \nL 2906 3500 \nL 3481 3500 \nL 3481 434 \nz\n\" transform=\"scale(0.015625)\"/>\n     </defs>\n     <use xlink:href=\"#DejaVuSans-6b\"/>\n     <use xlink:href=\"#DejaVuSans-69\" transform=\"translate(57.910156 0)\"/>\n     <use xlink:href=\"#DejaVuSans-6e\" transform=\"translate(85.693359 0)\"/>\n     <use xlink:href=\"#DejaVuSans-67\" transform=\"translate(149.072266 0)\"/>\n    </g>\n   </g>\n   <g id=\"text_18\">\n    <!-- queen -->\n    <g transform=\"translate(61.07804 167.441656) scale(0.1 -0.1)\">\n     <defs>\n      <path id=\"DejaVuSans-71\" d=\"M 947 1747 \nQ 947 1113 1208 752 \nQ 1469 391 1925 391 \nQ 2381 391 2643 752 \nQ 2906 1113 2906 1747 \nQ 2906 2381 2643 2742 \nQ 2381 3103 1925 3103 \nQ 1469 3103 1208 2742 \nQ 947 2381 947 1747 \nz\nM 2906 525 \nQ 2725 213 2448 61 \nQ 2172 -91 1784 -91 \nQ 1150 -91 751 415 \nQ 353 922 353 1747 \nQ 353 2572 751 3078 \nQ 1150 3584 1784 3584 \nQ 2172 3584 2448 3432 \nQ 2725 3281 2906 2969 \nL 2906 3500 \nL 3481 3500 \nL 3481 -1331 \nL 2906 -1331 \nL 2906 525 \nz\n\" transform=\"scale(0.015625)\"/>\n      <path id=\"DejaVuSans-75\" d=\"M 544 1381 \nL 544 3500 \nL 1119 3500 \nL 1119 1403 \nQ 1119 906 1312 657 \nQ 1506 409 1894 409 \nQ 2359 409 2629 706 \nQ 2900 1003 2900 1516 \nL 2900 3500 \nL 3475 3500 \nL 3475 0 \nL 2900 0 \nL 2900 538 \nQ 2691 219 2414 64 \nQ 2138 -91 1772 -91 \nQ 1169 -91 856 284 \nQ 544 659 544 1381 \nz\nM 1991 3584 \nL 1991 3584 \nz\n\" transform=\"scale(0.015625)\"/>\n      <path id=\"DejaVuSans-65\" d=\"M 3597 1894 \nL 3597 1613 \nL 953 1613 \nQ 991 1019 1311 708 \nQ 1631 397 2203 397 \nQ 2534 397 2845 478 \nQ 3156 559 3463 722 \nL 3463 178 \nQ 3153 47 2828 -22 \nQ 2503 -91 2169 -91 \nQ 1331 -91 842 396 \nQ 353 884 353 1716 \nQ 353 2575 817 3079 \nQ 1281 3584 2069 3584 \nQ 2775 3584 3186 3129 \nQ 3597 2675 3597 1894 \nz\nM 3022 2063 \nQ 3016 2534 2758 2815 \nQ 2500 3097 2075 3097 \nQ 1594 3097 1305 2825 \nQ 1016 2553 972 2059 \nL 3022 2063 \nz\n\" transform=\"scale(0.015625)\"/>\n     </defs>\n     <use xlink:href=\"#DejaVuSans-71\"/>\n     <use xlink:href=\"#DejaVuSans-75\" transform=\"translate(63.476562 0)\"/>\n     <use xlink:href=\"#DejaVuSans-65\" transform=\"translate(126.855469 0)\"/>\n     <use xlink:href=\"#DejaVuSans-65\" transform=\"translate(188.378906 0)\"/>\n     <use xlink:href=\"#DejaVuSans-6e\" transform=\"translate(249.902344 0)\"/>\n    </g>\n   </g>\n   <g id=\"text_19\">\n    <!-- lord -->\n    <g transform=\"translate(289.030784 19.296) scale(0.1 -0.1)\">\n     <defs>\n      <path id=\"DejaVuSans-6c\" d=\"M 603 4863 \nL 1178 4863 \nL 1178 0 \nL 603 0 \nL 603 4863 \nz\n\" transform=\"scale(0.015625)\"/>\n      <path id=\"DejaVuSans-6f\" d=\"M 1959 3097 \nQ 1497 3097 1228 2736 \nQ 959 2375 959 1747 \nQ 959 1119 1226 758 \nQ 1494 397 1959 397 \nQ 2419 397 2687 759 \nQ 2956 1122 2956 1747 \nQ 2956 2369 2687 2733 \nQ 2419 3097 1959 3097 \nz\nM 1959 3584 \nQ 2709 3584 3137 3096 \nQ 3566 2609 3566 1747 \nQ 3566 888 3137 398 \nQ 2709 -91 1959 -91 \nQ 1206 -91 779 398 \nQ 353 888 353 1747 \nQ 353 2609 779 3096 \nQ 1206 3584 1959 3584 \nz\n\" transform=\"scale(0.015625)\"/>\n      <path id=\"DejaVuSans-72\" d=\"M 2631 2963 \nQ 2534 3019 2420 3045 \nQ 2306 3072 2169 3072 \nQ 1681 3072 1420 2755 \nQ 1159 2438 1159 1844 \nL 1159 0 \nL 581 0 \nL 581 3500 \nL 1159 3500 \nL 1159 2956 \nQ 1341 3275 1631 3429 \nQ 1922 3584 2338 3584 \nQ 2397 3584 2469 3576 \nQ 2541 3569 2628 3553 \nL 2631 2963 \nz\n\" transform=\"scale(0.015625)\"/>\n      <path id=\"DejaVuSans-64\" d=\"M 2906 2969 \nL 2906 4863 \nL 3481 4863 \nL 3481 0 \nL 2906 0 \nL 2906 525 \nQ 2725 213 2448 61 \nQ 2172 -91 1784 -91 \nQ 1150 -91 751 415 \nQ 353 922 353 1747 \nQ 353 2572 751 3078 \nQ 1150 3584 1784 3584 \nQ 2172 3584 2448 3432 \nQ 2725 3281 2906 2969 \nz\nM 947 1747 \nQ 947 1113 1208 752 \nQ 1469 391 1925 391 \nQ 2381 391 2643 752 \nQ 2906 1113 2906 1747 \nQ 2906 2381 2643 2742 \nQ 2381 3103 1925 3103 \nQ 1469 3103 1208 2742 \nQ 947 2381 947 1747 \nz\n\" transform=\"scale(0.015625)\"/>\n     </defs>\n     <use xlink:href=\"#DejaVuSans-6c\"/>\n     <use xlink:href=\"#DejaVuSans-6f\" transform=\"translate(27.783203 0)\"/>\n     <use xlink:href=\"#DejaVuSans-72\" transform=\"translate(88.964844 0)\"/>\n     <use xlink:href=\"#DejaVuSans-64\" transform=\"translate(128.328125 0)\"/>\n    </g>\n   </g>\n   <g id=\"text_20\">\n    <!-- man -->\n    <g transform=\"translate(198.994652 250.190309) scale(0.1 -0.1)\">\n     <defs>\n      <path id=\"DejaVuSans-6d\" d=\"M 3328 2828 \nQ 3544 3216 3844 3400 \nQ 4144 3584 4550 3584 \nQ 5097 3584 5394 3201 \nQ 5691 2819 5691 2113 \nL 5691 0 \nL 5113 0 \nL 5113 2094 \nQ 5113 2597 4934 2840 \nQ 4756 3084 4391 3084 \nQ 3944 3084 3684 2787 \nQ 3425 2491 3425 1978 \nL 3425 0 \nL 2847 0 \nL 2847 2094 \nQ 2847 2600 2669 2842 \nQ 2491 3084 2119 3084 \nQ 1678 3084 1418 2786 \nQ 1159 2488 1159 1978 \nL 1159 0 \nL 581 0 \nL 581 3500 \nL 1159 3500 \nL 1159 2956 \nQ 1356 3278 1631 3431 \nQ 1906 3584 2284 3584 \nQ 2666 3584 2933 3390 \nQ 3200 3197 3328 2828 \nz\n\" transform=\"scale(0.015625)\"/>\n      <path id=\"DejaVuSans-61\" d=\"M 2194 1759 \nQ 1497 1759 1228 1600 \nQ 959 1441 959 1056 \nQ 959 750 1161 570 \nQ 1363 391 1709 391 \nQ 2188 391 2477 730 \nQ 2766 1069 2766 1631 \nL 2766 1759 \nL 2194 1759 \nz\nM 3341 1997 \nL 3341 0 \nL 2766 0 \nL 2766 531 \nQ 2569 213 2275 61 \nQ 1981 -91 1556 -91 \nQ 1019 -91 701 211 \nQ 384 513 384 1019 \nQ 384 1609 779 1909 \nQ 1175 2209 1959 2209 \nL 2766 2209 \nL 2766 2266 \nQ 2766 2663 2505 2880 \nQ 2244 3097 1772 3097 \nQ 1472 3097 1187 3025 \nQ 903 2953 641 2809 \nL 641 3341 \nQ 956 3463 1253 3523 \nQ 1550 3584 1831 3584 \nQ 2591 3584 2966 3190 \nQ 3341 2797 3341 1997 \nz\n\" transform=\"scale(0.015625)\"/>\n     </defs>\n     <use xlink:href=\"#DejaVuSans-6d\"/>\n     <use xlink:href=\"#DejaVuSans-61\" transform=\"translate(97.412109 0)\"/>\n     <use xlink:href=\"#DejaVuSans-6e\" transform=\"translate(158.691406 0)\"/>\n    </g>\n   </g>\n   <g id=\"text_21\">\n    <!-- woman -->\n    <g transform=\"translate(334.780071 168.549711) scale(0.1 -0.1)\">\n     <defs>\n      <path id=\"DejaVuSans-77\" d=\"M 269 3500 \nL 844 3500 \nL 1563 769 \nL 2278 3500 \nL 2956 3500 \nL 3675 769 \nL 4391 3500 \nL 4966 3500 \nL 4050 0 \nL 3372 0 \nL 2619 2869 \nL 1863 0 \nL 1184 0 \nL 269 3500 \nz\n\" transform=\"scale(0.015625)\"/>\n     </defs>\n     <use xlink:href=\"#DejaVuSans-77\"/>\n     <use xlink:href=\"#DejaVuSans-6f\" transform=\"translate(81.787109 0)\"/>\n     <use xlink:href=\"#DejaVuSans-6d\" transform=\"translate(142.96875 0)\"/>\n     <use xlink:href=\"#DejaVuSans-61\" transform=\"translate(240.380859 0)\"/>\n     <use xlink:href=\"#DejaVuSans-6e\" transform=\"translate(301.660156 0)\"/>\n    </g>\n   </g>\n   <g id=\"text_22\">\n    <!-- dog -->\n    <g transform=\"translate(303.707681 239.142369) scale(0.1 -0.1)\">\n     <use xlink:href=\"#DejaVuSans-64\"/>\n     <use xlink:href=\"#DejaVuSans-6f\" transform=\"translate(63.476562 0)\"/>\n     <use xlink:href=\"#DejaVuSans-67\" transform=\"translate(124.658203 0)\"/>\n    </g>\n   </g>\n   <g id=\"text_23\">\n    <!-- wolf -->\n    <g transform=\"translate(249.192638 179.588159) scale(0.1 -0.1)\">\n     <defs>\n      <path id=\"DejaVuSans-66\" d=\"M 2375 4863 \nL 2375 4384 \nL 1825 4384 \nQ 1516 4384 1395 4259 \nQ 1275 4134 1275 3809 \nL 1275 3500 \nL 2222 3500 \nL 2222 3053 \nL 1275 3053 \nL 1275 0 \nL 697 0 \nL 697 3053 \nL 147 3053 \nL 147 3500 \nL 697 3500 \nL 697 3744 \nQ 697 4328 969 4595 \nQ 1241 4863 1831 4863 \nL 2375 4863 \nz\n\" transform=\"scale(0.015625)\"/>\n     </defs>\n     <use xlink:href=\"#DejaVuSans-77\"/>\n     <use xlink:href=\"#DejaVuSans-6f\" transform=\"translate(81.787109 0)\"/>\n     <use xlink:href=\"#DejaVuSans-6c\" transform=\"translate(142.96875 0)\"/>\n     <use xlink:href=\"#DejaVuSans-66\" transform=\"translate(170.751953 0)\"/>\n    </g>\n   </g>\n   <g id=\"text_24\">\n    <!-- rich -->\n    <g transform=\"translate(86.480285 204.026334) scale(0.1 -0.1)\">\n     <defs>\n      <path id=\"DejaVuSans-63\" d=\"M 3122 3366 \nL 3122 2828 \nQ 2878 2963 2633 3030 \nQ 2388 3097 2138 3097 \nQ 1578 3097 1268 2742 \nQ 959 2388 959 1747 \nQ 959 1106 1268 751 \nQ 1578 397 2138 397 \nQ 2388 397 2633 464 \nQ 2878 531 3122 666 \nL 3122 134 \nQ 2881 22 2623 -34 \nQ 2366 -91 2075 -91 \nQ 1284 -91 818 406 \nQ 353 903 353 1747 \nQ 353 2603 823 3093 \nQ 1294 3584 2113 3584 \nQ 2378 3584 2631 3529 \nQ 2884 3475 3122 3366 \nz\n\" transform=\"scale(0.015625)\"/>\n      <path id=\"DejaVuSans-68\" d=\"M 3513 2113 \nL 3513 0 \nL 2938 0 \nL 2938 2094 \nQ 2938 2591 2744 2837 \nQ 2550 3084 2163 3084 \nQ 1697 3084 1428 2787 \nQ 1159 2491 1159 1978 \nL 1159 0 \nL 581 0 \nL 581 4863 \nL 1159 4863 \nL 1159 2956 \nQ 1366 3272 1645 3428 \nQ 1925 3584 2291 3584 \nQ 2894 3584 3203 3211 \nQ 3513 2838 3513 2113 \nz\n\" transform=\"scale(0.015625)\"/>\n     </defs>\n     <use xlink:href=\"#DejaVuSans-72\"/>\n     <use xlink:href=\"#DejaVuSans-69\" transform=\"translate(41.113281 0)\"/>\n     <use xlink:href=\"#DejaVuSans-63\" transform=\"translate(68.896484 0)\"/>\n     <use xlink:href=\"#DejaVuSans-68\" transform=\"translate(123.876953 0)\"/>\n    </g>\n   </g>\n   <g id=\"text_25\">\n    <!-- happy -->\n    <g transform=\"translate(230.908871 210.391057) scale(0.1 -0.1)\">\n     <defs>\n      <path id=\"DejaVuSans-70\" d=\"M 1159 525 \nL 1159 -1331 \nL 581 -1331 \nL 581 3500 \nL 1159 3500 \nL 1159 2969 \nQ 1341 3281 1617 3432 \nQ 1894 3584 2278 3584 \nQ 2916 3584 3314 3078 \nQ 3713 2572 3713 1747 \nQ 3713 922 3314 415 \nQ 2916 -91 2278 -91 \nQ 1894 -91 1617 61 \nQ 1341 213 1159 525 \nz\nM 3116 1747 \nQ 3116 2381 2855 2742 \nQ 2594 3103 2138 3103 \nQ 1681 3103 1420 2742 \nQ 1159 2381 1159 1747 \nQ 1159 1113 1420 752 \nQ 1681 391 2138 391 \nQ 2594 391 2855 752 \nQ 3116 1113 3116 1747 \nz\n\" transform=\"scale(0.015625)\"/>\n      <path id=\"DejaVuSans-79\" d=\"M 2059 -325 \nQ 1816 -950 1584 -1140 \nQ 1353 -1331 966 -1331 \nL 506 -1331 \nL 506 -850 \nL 844 -850 \nQ 1081 -850 1212 -737 \nQ 1344 -625 1503 -206 \nL 1606 56 \nL 191 3500 \nL 800 3500 \nL 1894 763 \nL 2988 3500 \nL 3597 3500 \nL 2059 -325 \nz\n\" transform=\"scale(0.015625)\"/>\n     </defs>\n     <use xlink:href=\"#DejaVuSans-68\"/>\n     <use xlink:href=\"#DejaVuSans-61\" transform=\"translate(63.378906 0)\"/>\n     <use xlink:href=\"#DejaVuSans-70\" transform=\"translate(124.658203 0)\"/>\n     <use xlink:href=\"#DejaVuSans-70\" transform=\"translate(188.134766 0)\"/>\n     <use xlink:href=\"#DejaVuSans-79\" transform=\"translate(251.611328 0)\"/>\n    </g>\n   </g>\n   <g id=\"text_26\">\n    <!-- sad -->\n    <g transform=\"translate(385.732585 261.216) scale(0.1 -0.1)\">\n     <defs>\n      <path id=\"DejaVuSans-73\" d=\"M 2834 3397 \nL 2834 2853 \nQ 2591 2978 2328 3040 \nQ 2066 3103 1784 3103 \nQ 1356 3103 1142 2972 \nQ 928 2841 928 2578 \nQ 928 2378 1081 2264 \nQ 1234 2150 1697 2047 \nL 1894 2003 \nQ 2506 1872 2764 1633 \nQ 3022 1394 3022 966 \nQ 3022 478 2636 193 \nQ 2250 -91 1575 -91 \nQ 1294 -91 989 -36 \nQ 684 19 347 128 \nL 347 722 \nQ 666 556 975 473 \nQ 1284 391 1588 391 \nQ 1994 391 2212 530 \nQ 2431 669 2431 922 \nQ 2431 1156 2273 1281 \nQ 2116 1406 1581 1522 \nL 1381 1569 \nQ 847 1681 609 1914 \nQ 372 2147 372 2553 \nQ 372 3047 722 3315 \nQ 1072 3584 1716 3584 \nQ 2034 3584 2315 3537 \nQ 2597 3491 2834 3397 \nz\n\" transform=\"scale(0.015625)\"/>\n     </defs>\n     <use xlink:href=\"#DejaVuSans-73\"/>\n     <use xlink:href=\"#DejaVuSans-61\" transform=\"translate(52.099609 0)\"/>\n     <use xlink:href=\"#DejaVuSans-64\" transform=\"translate(113.378906 0)\"/>\n    </g>\n   </g>\n  </g>\n </g>\n <defs>\n  <clipPath id=\"pab76f6adcf\">\n   <rect x=\"44.845313\" y=\"7.2\" width=\"357.12\" height=\"266.112\"/>\n  </clipPath>\n </defs>\n</svg>\n"
          },
          "metadata": {}
        }
      ],
      "source": [
        "result= compute_pca(X, 2)\n",
        "pyplot.scatter(result[:, 0], result[:, 1])\n",
        "for i, word in enumerate(words):\n",
        "    pyplot.annotate(word, xy=(result[i, 0], result[i, 1]))\n",
        "pyplot.show()"
      ]
    },
    {
      "cell_type": "markdown",
      "metadata": {
        "id": "cDwUV6qC5SdF"
      },
      "source": [
        "You can see that man and king are next to each other. However, we have to be careful with the interpretation of this projected word vectors, since the PCA depends on the projection -- as shown in the following illustration."
      ]
    },
    {
      "cell_type": "code",
      "execution_count": 78,
      "metadata": {
        "tags": [],
        "id": "G8j8Tvcm5SdK",
        "outputId": "beaf0c8d-f39b-4a81-f527-86d47ee40060",
        "colab": {
          "base_uri": "https://localhost:8080/",
          "height": 418
        }
      },
      "outputs": [
        {
          "output_type": "display_data",
          "data": {
            "text/plain": [
              "<Figure size 640x480 with 1 Axes>"
            ],
            "image/svg+xml": "<?xml version=\"1.0\" encoding=\"utf-8\" standalone=\"no\"?>\n<!DOCTYPE svg PUBLIC \"-//W3C//DTD SVG 1.1//EN\"\n  \"http://www.w3.org/Graphics/SVG/1.1/DTD/svg11.dtd\">\n<svg xmlns:xlink=\"http://www.w3.org/1999/xlink\" width=\"424.013835pt\" height=\"297.190125pt\" viewBox=\"0 0 424.013835 297.190125\" xmlns=\"http://www.w3.org/2000/svg\" version=\"1.1\">\n <metadata>\n  <rdf:RDF xmlns:dc=\"http://purl.org/dc/elements/1.1/\" xmlns:cc=\"http://creativecommons.org/ns#\" xmlns:rdf=\"http://www.w3.org/1999/02/22-rdf-syntax-ns#\">\n   <cc:Work>\n    <dc:type rdf:resource=\"http://purl.org/dc/dcmitype/StillImage\"/>\n    <dc:date>2025-03-13T01:16:09.251700</dc:date>\n    <dc:format>image/svg+xml</dc:format>\n    <dc:creator>\n     <cc:Agent>\n      <dc:title>Matplotlib v3.10.0, https://matplotlib.org/</dc:title>\n     </cc:Agent>\n    </dc:creator>\n   </cc:Work>\n  </rdf:RDF>\n </metadata>\n <defs>\n  <style type=\"text/css\">*{stroke-linejoin: round; stroke-linecap: butt}</style>\n </defs>\n <g id=\"figure_1\">\n  <g id=\"patch_1\">\n   <path d=\"M 0 297.190125 \nL 424.013835 297.190125 \nL 424.013835 0 \nL 0 0 \nz\n\" style=\"fill: #ffffff\"/>\n  </g>\n  <g id=\"axes_1\">\n   <g id=\"patch_2\">\n    <path d=\"M 44.845313 273.312 \nL 401.965312 273.312 \nL 401.965312 7.2 \nL 44.845313 7.2 \nz\n\" style=\"fill: #ffffff\"/>\n   </g>\n   <g id=\"PathCollection_1\">\n    <defs>\n     <path id=\"m19dbf5f10c\" d=\"M 0 3 \nC 0.795609 3 1.55874 2.683901 2.12132 2.12132 \nC 2.683901 1.55874 3 0.795609 3 0 \nC 3 -0.795609 2.683901 -1.55874 2.12132 -2.12132 \nC 1.55874 -2.683901 0.795609 -3 0 -3 \nC -0.795609 -3 -1.55874 -2.683901 -2.12132 -2.12132 \nC -2.683901 -1.55874 -3 -0.795609 -3 0 \nC -3 0.795609 -2.683901 1.55874 -2.12132 2.12132 \nC -1.55874 2.683901 -0.795609 3 0 3 \nz\n\" style=\"stroke: #1f77b4\"/>\n    </defs>\n    <g clip-path=\"url(#pa59a1dece5)\">\n     <use xlink:href=\"#m19dbf5f10c\" x=\"111.518786\" y=\"46.358075\" style=\"fill: #1f77b4; stroke: #1f77b4\"/>\n     <use xlink:href=\"#m19dbf5f10c\" x=\"147.606793\" y=\"113.070344\" style=\"fill: #1f77b4; stroke: #1f77b4\"/>\n     <use xlink:href=\"#m19dbf5f10c\" x=\"227.408556\" y=\"261.216\" style=\"fill: #1f77b4; stroke: #1f77b4\"/>\n     <use xlink:href=\"#m19dbf5f10c\" x=\"208.594727\" y=\"30.321691\" style=\"fill: #1f77b4; stroke: #1f77b4\"/>\n     <use xlink:href=\"#m19dbf5f10c\" x=\"290.907932\" y=\"111.962289\" style=\"fill: #1f77b4; stroke: #1f77b4\"/>\n     <use xlink:href=\"#m19dbf5f10c\" x=\"200.395407\" y=\"41.369631\" style=\"fill: #1f77b4; stroke: #1f77b4\"/>\n     <use xlink:href=\"#m19dbf5f10c\" x=\"61.07804\" y=\"100.923841\" style=\"fill: #1f77b4; stroke: #1f77b4\"/>\n     <use xlink:href=\"#m19dbf5f10c\" x=\"374.644648\" y=\"76.485666\" style=\"fill: #1f77b4; stroke: #1f77b4\"/>\n     <use xlink:href=\"#m19dbf5f10c\" x=\"385.732585\" y=\"70.120943\" style=\"fill: #1f77b4; stroke: #1f77b4\"/>\n     <use xlink:href=\"#m19dbf5f10c\" x=\"227.136087\" y=\"19.296\" style=\"fill: #1f77b4; stroke: #1f77b4\"/>\n    </g>\n   </g>\n   <g id=\"matplotlib.axis_1\">\n    <g id=\"xtick_1\">\n     <g id=\"line2d_1\">\n      <defs>\n       <path id=\"m246f8efc52\" d=\"M 0 0 \nL 0 3.5 \n\" style=\"stroke: #000000; stroke-width: 0.8\"/>\n      </defs>\n      <g>\n       <use xlink:href=\"#m246f8efc52\" x=\"54.167805\" y=\"273.312\" style=\"stroke: #000000; stroke-width: 0.8\"/>\n      </g>\n     </g>\n     <g id=\"text_1\">\n      <!-- −0.8 -->\n      <g transform=\"translate(42.026399 287.910437) scale(0.1 -0.1)\">\n       <defs>\n        <path id=\"DejaVuSans-2212\" d=\"M 678 2272 \nL 4684 2272 \nL 4684 1741 \nL 678 1741 \nL 678 2272 \nz\n\" transform=\"scale(0.015625)\"/>\n        <path id=\"DejaVuSans-30\" d=\"M 2034 4250 \nQ 1547 4250 1301 3770 \nQ 1056 3291 1056 2328 \nQ 1056 1369 1301 889 \nQ 1547 409 2034 409 \nQ 2525 409 2770 889 \nQ 3016 1369 3016 2328 \nQ 3016 3291 2770 3770 \nQ 2525 4250 2034 4250 \nz\nM 2034 4750 \nQ 2819 4750 3233 4129 \nQ 3647 3509 3647 2328 \nQ 3647 1150 3233 529 \nQ 2819 -91 2034 -91 \nQ 1250 -91 836 529 \nQ 422 1150 422 2328 \nQ 422 3509 836 4129 \nQ 1250 4750 2034 4750 \nz\n\" transform=\"scale(0.015625)\"/>\n        <path id=\"DejaVuSans-2e\" d=\"M 684 794 \nL 1344 794 \nL 1344 0 \nL 684 0 \nL 684 794 \nz\n\" transform=\"scale(0.015625)\"/>\n        <path id=\"DejaVuSans-38\" d=\"M 2034 2216 \nQ 1584 2216 1326 1975 \nQ 1069 1734 1069 1313 \nQ 1069 891 1326 650 \nQ 1584 409 2034 409 \nQ 2484 409 2743 651 \nQ 3003 894 3003 1313 \nQ 3003 1734 2745 1975 \nQ 2488 2216 2034 2216 \nz\nM 1403 2484 \nQ 997 2584 770 2862 \nQ 544 3141 544 3541 \nQ 544 4100 942 4425 \nQ 1341 4750 2034 4750 \nQ 2731 4750 3128 4425 \nQ 3525 4100 3525 3541 \nQ 3525 3141 3298 2862 \nQ 3072 2584 2669 2484 \nQ 3125 2378 3379 2068 \nQ 3634 1759 3634 1313 \nQ 3634 634 3220 271 \nQ 2806 -91 2034 -91 \nQ 1263 -91 848 271 \nQ 434 634 434 1313 \nQ 434 1759 690 2068 \nQ 947 2378 1403 2484 \nz\nM 1172 3481 \nQ 1172 3119 1398 2916 \nQ 1625 2713 2034 2713 \nQ 2441 2713 2670 2916 \nQ 2900 3119 2900 3481 \nQ 2900 3844 2670 4047 \nQ 2441 4250 2034 4250 \nQ 1625 4250 1398 4047 \nQ 1172 3844 1172 3481 \nz\n\" transform=\"scale(0.015625)\"/>\n       </defs>\n       <use xlink:href=\"#DejaVuSans-2212\"/>\n       <use xlink:href=\"#DejaVuSans-30\" transform=\"translate(83.789062 0)\"/>\n       <use xlink:href=\"#DejaVuSans-2e\" transform=\"translate(147.412109 0)\"/>\n       <use xlink:href=\"#DejaVuSans-38\" transform=\"translate(179.199219 0)\"/>\n      </g>\n     </g>\n    </g>\n    <g id=\"xtick_2\">\n     <g id=\"line2d_2\">\n      <g>\n       <use xlink:href=\"#m246f8efc52\" x=\"96.501443\" y=\"273.312\" style=\"stroke: #000000; stroke-width: 0.8\"/>\n      </g>\n     </g>\n     <g id=\"text_2\">\n      <!-- −0.6 -->\n      <g transform=\"translate(84.360037 287.910437) scale(0.1 -0.1)\">\n       <defs>\n        <path id=\"DejaVuSans-36\" d=\"M 2113 2584 \nQ 1688 2584 1439 2293 \nQ 1191 2003 1191 1497 \nQ 1191 994 1439 701 \nQ 1688 409 2113 409 \nQ 2538 409 2786 701 \nQ 3034 994 3034 1497 \nQ 3034 2003 2786 2293 \nQ 2538 2584 2113 2584 \nz\nM 3366 4563 \nL 3366 3988 \nQ 3128 4100 2886 4159 \nQ 2644 4219 2406 4219 \nQ 1781 4219 1451 3797 \nQ 1122 3375 1075 2522 \nQ 1259 2794 1537 2939 \nQ 1816 3084 2150 3084 \nQ 2853 3084 3261 2657 \nQ 3669 2231 3669 1497 \nQ 3669 778 3244 343 \nQ 2819 -91 2113 -91 \nQ 1303 -91 875 529 \nQ 447 1150 447 2328 \nQ 447 3434 972 4092 \nQ 1497 4750 2381 4750 \nQ 2619 4750 2861 4703 \nQ 3103 4656 3366 4563 \nz\n\" transform=\"scale(0.015625)\"/>\n       </defs>\n       <use xlink:href=\"#DejaVuSans-2212\"/>\n       <use xlink:href=\"#DejaVuSans-30\" transform=\"translate(83.789062 0)\"/>\n       <use xlink:href=\"#DejaVuSans-2e\" transform=\"translate(147.412109 0)\"/>\n       <use xlink:href=\"#DejaVuSans-36\" transform=\"translate(179.199219 0)\"/>\n      </g>\n     </g>\n    </g>\n    <g id=\"xtick_3\">\n     <g id=\"line2d_3\">\n      <g>\n       <use xlink:href=\"#m246f8efc52\" x=\"138.835081\" y=\"273.312\" style=\"stroke: #000000; stroke-width: 0.8\"/>\n      </g>\n     </g>\n     <g id=\"text_3\">\n      <!-- −0.4 -->\n      <g transform=\"translate(126.693674 287.910437) scale(0.1 -0.1)\">\n       <defs>\n        <path id=\"DejaVuSans-34\" d=\"M 2419 4116 \nL 825 1625 \nL 2419 1625 \nL 2419 4116 \nz\nM 2253 4666 \nL 3047 4666 \nL 3047 1625 \nL 3713 1625 \nL 3713 1100 \nL 3047 1100 \nL 3047 0 \nL 2419 0 \nL 2419 1100 \nL 313 1100 \nL 313 1709 \nL 2253 4666 \nz\n\" transform=\"scale(0.015625)\"/>\n       </defs>\n       <use xlink:href=\"#DejaVuSans-2212\"/>\n       <use xlink:href=\"#DejaVuSans-30\" transform=\"translate(83.789062 0)\"/>\n       <use xlink:href=\"#DejaVuSans-2e\" transform=\"translate(147.412109 0)\"/>\n       <use xlink:href=\"#DejaVuSans-34\" transform=\"translate(179.199219 0)\"/>\n      </g>\n     </g>\n    </g>\n    <g id=\"xtick_4\">\n     <g id=\"line2d_4\">\n      <g>\n       <use xlink:href=\"#m246f8efc52\" x=\"181.168718\" y=\"273.312\" style=\"stroke: #000000; stroke-width: 0.8\"/>\n      </g>\n     </g>\n     <g id=\"text_4\">\n      <!-- −0.2 -->\n      <g transform=\"translate(169.027312 287.910437) scale(0.1 -0.1)\">\n       <defs>\n        <path id=\"DejaVuSans-32\" d=\"M 1228 531 \nL 3431 531 \nL 3431 0 \nL 469 0 \nL 469 531 \nQ 828 903 1448 1529 \nQ 2069 2156 2228 2338 \nQ 2531 2678 2651 2914 \nQ 2772 3150 2772 3378 \nQ 2772 3750 2511 3984 \nQ 2250 4219 1831 4219 \nQ 1534 4219 1204 4116 \nQ 875 4013 500 3803 \nL 500 4441 \nQ 881 4594 1212 4672 \nQ 1544 4750 1819 4750 \nQ 2544 4750 2975 4387 \nQ 3406 4025 3406 3419 \nQ 3406 3131 3298 2873 \nQ 3191 2616 2906 2266 \nQ 2828 2175 2409 1742 \nQ 1991 1309 1228 531 \nz\n\" transform=\"scale(0.015625)\"/>\n       </defs>\n       <use xlink:href=\"#DejaVuSans-2212\"/>\n       <use xlink:href=\"#DejaVuSans-30\" transform=\"translate(83.789062 0)\"/>\n       <use xlink:href=\"#DejaVuSans-2e\" transform=\"translate(147.412109 0)\"/>\n       <use xlink:href=\"#DejaVuSans-32\" transform=\"translate(179.199219 0)\"/>\n      </g>\n     </g>\n    </g>\n    <g id=\"xtick_5\">\n     <g id=\"line2d_5\">\n      <g>\n       <use xlink:href=\"#m246f8efc52\" x=\"223.502356\" y=\"273.312\" style=\"stroke: #000000; stroke-width: 0.8\"/>\n      </g>\n     </g>\n     <g id=\"text_5\">\n      <!-- 0.0 -->\n      <g transform=\"translate(215.550794 287.910437) scale(0.1 -0.1)\">\n       <use xlink:href=\"#DejaVuSans-30\"/>\n       <use xlink:href=\"#DejaVuSans-2e\" transform=\"translate(63.623047 0)\"/>\n       <use xlink:href=\"#DejaVuSans-30\" transform=\"translate(95.410156 0)\"/>\n      </g>\n     </g>\n    </g>\n    <g id=\"xtick_6\">\n     <g id=\"line2d_6\">\n      <g>\n       <use xlink:href=\"#m246f8efc52\" x=\"265.835994\" y=\"273.312\" style=\"stroke: #000000; stroke-width: 0.8\"/>\n      </g>\n     </g>\n     <g id=\"text_6\">\n      <!-- 0.2 -->\n      <g transform=\"translate(257.884431 287.910437) scale(0.1 -0.1)\">\n       <use xlink:href=\"#DejaVuSans-30\"/>\n       <use xlink:href=\"#DejaVuSans-2e\" transform=\"translate(63.623047 0)\"/>\n       <use xlink:href=\"#DejaVuSans-32\" transform=\"translate(95.410156 0)\"/>\n      </g>\n     </g>\n    </g>\n    <g id=\"xtick_7\">\n     <g id=\"line2d_7\">\n      <g>\n       <use xlink:href=\"#m246f8efc52\" x=\"308.169632\" y=\"273.312\" style=\"stroke: #000000; stroke-width: 0.8\"/>\n      </g>\n     </g>\n     <g id=\"text_7\">\n      <!-- 0.4 -->\n      <g transform=\"translate(300.218069 287.910437) scale(0.1 -0.1)\">\n       <use xlink:href=\"#DejaVuSans-30\"/>\n       <use xlink:href=\"#DejaVuSans-2e\" transform=\"translate(63.623047 0)\"/>\n       <use xlink:href=\"#DejaVuSans-34\" transform=\"translate(95.410156 0)\"/>\n      </g>\n     </g>\n    </g>\n    <g id=\"xtick_8\">\n     <g id=\"line2d_8\">\n      <g>\n       <use xlink:href=\"#m246f8efc52\" x=\"350.503269\" y=\"273.312\" style=\"stroke: #000000; stroke-width: 0.8\"/>\n      </g>\n     </g>\n     <g id=\"text_8\">\n      <!-- 0.6 -->\n      <g transform=\"translate(342.551707 287.910437) scale(0.1 -0.1)\">\n       <use xlink:href=\"#DejaVuSans-30\"/>\n       <use xlink:href=\"#DejaVuSans-2e\" transform=\"translate(63.623047 0)\"/>\n       <use xlink:href=\"#DejaVuSans-36\" transform=\"translate(95.410156 0)\"/>\n      </g>\n     </g>\n    </g>\n    <g id=\"xtick_9\">\n     <g id=\"line2d_9\">\n      <g>\n       <use xlink:href=\"#m246f8efc52\" x=\"392.836907\" y=\"273.312\" style=\"stroke: #000000; stroke-width: 0.8\"/>\n      </g>\n     </g>\n     <g id=\"text_9\">\n      <!-- 0.8 -->\n      <g transform=\"translate(384.885344 287.910437) scale(0.1 -0.1)\">\n       <use xlink:href=\"#DejaVuSans-30\"/>\n       <use xlink:href=\"#DejaVuSans-2e\" transform=\"translate(63.623047 0)\"/>\n       <use xlink:href=\"#DejaVuSans-38\" transform=\"translate(95.410156 0)\"/>\n      </g>\n     </g>\n    </g>\n   </g>\n   <g id=\"matplotlib.axis_2\">\n    <g id=\"ytick_1\">\n     <g id=\"line2d_10\">\n      <defs>\n       <path id=\"m9e19e74e54\" d=\"M 0 0 \nL -3.5 0 \n\" style=\"stroke: #000000; stroke-width: 0.8\"/>\n      </defs>\n      <g>\n       <use xlink:href=\"#m9e19e74e54\" x=\"44.845313\" y=\"246.147319\" style=\"stroke: #000000; stroke-width: 0.8\"/>\n      </g>\n     </g>\n     <g id=\"text_10\">\n      <!-- −1.25 -->\n      <g transform=\"translate(7.2 249.946538) scale(0.1 -0.1)\">\n       <defs>\n        <path id=\"DejaVuSans-31\" d=\"M 794 531 \nL 1825 531 \nL 1825 4091 \nL 703 3866 \nL 703 4441 \nL 1819 4666 \nL 2450 4666 \nL 2450 531 \nL 3481 531 \nL 3481 0 \nL 794 0 \nL 794 531 \nz\n\" transform=\"scale(0.015625)\"/>\n        <path id=\"DejaVuSans-35\" d=\"M 691 4666 \nL 3169 4666 \nL 3169 4134 \nL 1269 4134 \nL 1269 2991 \nQ 1406 3038 1543 3061 \nQ 1681 3084 1819 3084 \nQ 2600 3084 3056 2656 \nQ 3513 2228 3513 1497 \nQ 3513 744 3044 326 \nQ 2575 -91 1722 -91 \nQ 1428 -91 1123 -41 \nQ 819 9 494 109 \nL 494 744 \nQ 775 591 1075 516 \nQ 1375 441 1709 441 \nQ 2250 441 2565 725 \nQ 2881 1009 2881 1497 \nQ 2881 1984 2565 2268 \nQ 2250 2553 1709 2553 \nQ 1456 2553 1204 2497 \nQ 953 2441 691 2322 \nL 691 4666 \nz\n\" transform=\"scale(0.015625)\"/>\n       </defs>\n       <use xlink:href=\"#DejaVuSans-2212\"/>\n       <use xlink:href=\"#DejaVuSans-31\" transform=\"translate(83.789062 0)\"/>\n       <use xlink:href=\"#DejaVuSans-2e\" transform=\"translate(147.412109 0)\"/>\n       <use xlink:href=\"#DejaVuSans-32\" transform=\"translate(179.199219 0)\"/>\n       <use xlink:href=\"#DejaVuSans-35\" transform=\"translate(242.822266 0)\"/>\n      </g>\n     </g>\n    </g>\n    <g id=\"ytick_2\">\n     <g id=\"line2d_11\">\n      <g>\n       <use xlink:href=\"#m9e19e74e54\" x=\"44.845313\" y=\"214.340345\" style=\"stroke: #000000; stroke-width: 0.8\"/>\n      </g>\n     </g>\n     <g id=\"text_11\">\n      <!-- −1.00 -->\n      <g transform=\"translate(7.2 218.139564) scale(0.1 -0.1)\">\n       <use xlink:href=\"#DejaVuSans-2212\"/>\n       <use xlink:href=\"#DejaVuSans-31\" transform=\"translate(83.789062 0)\"/>\n       <use xlink:href=\"#DejaVuSans-2e\" transform=\"translate(147.412109 0)\"/>\n       <use xlink:href=\"#DejaVuSans-30\" transform=\"translate(179.199219 0)\"/>\n       <use xlink:href=\"#DejaVuSans-30\" transform=\"translate(242.822266 0)\"/>\n      </g>\n     </g>\n    </g>\n    <g id=\"ytick_3\">\n     <g id=\"line2d_12\">\n      <g>\n       <use xlink:href=\"#m9e19e74e54\" x=\"44.845313\" y=\"182.533371\" style=\"stroke: #000000; stroke-width: 0.8\"/>\n      </g>\n     </g>\n     <g id=\"text_12\">\n      <!-- −0.75 -->\n      <g transform=\"translate(7.2 186.332589) scale(0.1 -0.1)\">\n       <defs>\n        <path id=\"DejaVuSans-37\" d=\"M 525 4666 \nL 3525 4666 \nL 3525 4397 \nL 1831 0 \nL 1172 0 \nL 2766 4134 \nL 525 4134 \nL 525 4666 \nz\n\" transform=\"scale(0.015625)\"/>\n       </defs>\n       <use xlink:href=\"#DejaVuSans-2212\"/>\n       <use xlink:href=\"#DejaVuSans-30\" transform=\"translate(83.789062 0)\"/>\n       <use xlink:href=\"#DejaVuSans-2e\" transform=\"translate(147.412109 0)\"/>\n       <use xlink:href=\"#DejaVuSans-37\" transform=\"translate(179.199219 0)\"/>\n       <use xlink:href=\"#DejaVuSans-35\" transform=\"translate(242.822266 0)\"/>\n      </g>\n     </g>\n    </g>\n    <g id=\"ytick_4\">\n     <g id=\"line2d_13\">\n      <g>\n       <use xlink:href=\"#m9e19e74e54\" x=\"44.845313\" y=\"150.726396\" style=\"stroke: #000000; stroke-width: 0.8\"/>\n      </g>\n     </g>\n     <g id=\"text_13\">\n      <!-- −0.50 -->\n      <g transform=\"translate(7.2 154.525615) scale(0.1 -0.1)\">\n       <use xlink:href=\"#DejaVuSans-2212\"/>\n       <use xlink:href=\"#DejaVuSans-30\" transform=\"translate(83.789062 0)\"/>\n       <use xlink:href=\"#DejaVuSans-2e\" transform=\"translate(147.412109 0)\"/>\n       <use xlink:href=\"#DejaVuSans-35\" transform=\"translate(179.199219 0)\"/>\n       <use xlink:href=\"#DejaVuSans-30\" transform=\"translate(242.822266 0)\"/>\n      </g>\n     </g>\n    </g>\n    <g id=\"ytick_5\">\n     <g id=\"line2d_14\">\n      <g>\n       <use xlink:href=\"#m9e19e74e54\" x=\"44.845313\" y=\"118.919422\" style=\"stroke: #000000; stroke-width: 0.8\"/>\n      </g>\n     </g>\n     <g id=\"text_14\">\n      <!-- −0.25 -->\n      <g transform=\"translate(7.2 122.718641) scale(0.1 -0.1)\">\n       <use xlink:href=\"#DejaVuSans-2212\"/>\n       <use xlink:href=\"#DejaVuSans-30\" transform=\"translate(83.789062 0)\"/>\n       <use xlink:href=\"#DejaVuSans-2e\" transform=\"translate(147.412109 0)\"/>\n       <use xlink:href=\"#DejaVuSans-32\" transform=\"translate(179.199219 0)\"/>\n       <use xlink:href=\"#DejaVuSans-35\" transform=\"translate(242.822266 0)\"/>\n      </g>\n     </g>\n    </g>\n    <g id=\"ytick_6\">\n     <g id=\"line2d_15\">\n      <g>\n       <use xlink:href=\"#m9e19e74e54\" x=\"44.845313\" y=\"87.112448\" style=\"stroke: #000000; stroke-width: 0.8\"/>\n      </g>\n     </g>\n     <g id=\"text_15\">\n      <!-- 0.00 -->\n      <g transform=\"translate(15.579688 90.911667) scale(0.1 -0.1)\">\n       <use xlink:href=\"#DejaVuSans-30\"/>\n       <use xlink:href=\"#DejaVuSans-2e\" transform=\"translate(63.623047 0)\"/>\n       <use xlink:href=\"#DejaVuSans-30\" transform=\"translate(95.410156 0)\"/>\n       <use xlink:href=\"#DejaVuSans-30\" transform=\"translate(159.033203 0)\"/>\n      </g>\n     </g>\n    </g>\n    <g id=\"ytick_7\">\n     <g id=\"line2d_16\">\n      <g>\n       <use xlink:href=\"#m9e19e74e54\" x=\"44.845313\" y=\"55.305474\" style=\"stroke: #000000; stroke-width: 0.8\"/>\n      </g>\n     </g>\n     <g id=\"text_16\">\n      <!-- 0.25 -->\n      <g transform=\"translate(15.579688 59.104692) scale(0.1 -0.1)\">\n       <use xlink:href=\"#DejaVuSans-30\"/>\n       <use xlink:href=\"#DejaVuSans-2e\" transform=\"translate(63.623047 0)\"/>\n       <use xlink:href=\"#DejaVuSans-32\" transform=\"translate(95.410156 0)\"/>\n       <use xlink:href=\"#DejaVuSans-35\" transform=\"translate(159.033203 0)\"/>\n      </g>\n     </g>\n    </g>\n    <g id=\"ytick_8\">\n     <g id=\"line2d_17\">\n      <g>\n       <use xlink:href=\"#m9e19e74e54\" x=\"44.845313\" y=\"23.498499\" style=\"stroke: #000000; stroke-width: 0.8\"/>\n      </g>\n     </g>\n     <g id=\"text_17\">\n      <!-- 0.50 -->\n      <g transform=\"translate(15.579688 27.297718) scale(0.1 -0.1)\">\n       <use xlink:href=\"#DejaVuSans-30\"/>\n       <use xlink:href=\"#DejaVuSans-2e\" transform=\"translate(63.623047 0)\"/>\n       <use xlink:href=\"#DejaVuSans-35\" transform=\"translate(95.410156 0)\"/>\n       <use xlink:href=\"#DejaVuSans-30\" transform=\"translate(159.033203 0)\"/>\n      </g>\n     </g>\n    </g>\n   </g>\n   <g id=\"patch_3\">\n    <path d=\"M 44.845313 273.312 \nL 44.845313 7.2 \n\" style=\"fill: none; stroke: #000000; stroke-width: 0.8; stroke-linejoin: miter; stroke-linecap: square\"/>\n   </g>\n   <g id=\"patch_4\">\n    <path d=\"M 401.965312 273.312 \nL 401.965312 7.2 \n\" style=\"fill: none; stroke: #000000; stroke-width: 0.8; stroke-linejoin: miter; stroke-linecap: square\"/>\n   </g>\n   <g id=\"patch_5\">\n    <path d=\"M 44.845312 273.312 \nL 401.965313 273.312 \n\" style=\"fill: none; stroke: #000000; stroke-width: 0.8; stroke-linejoin: miter; stroke-linecap: square\"/>\n   </g>\n   <g id=\"patch_6\">\n    <path d=\"M 44.845312 7.2 \nL 401.965313 7.2 \n\" style=\"fill: none; stroke: #000000; stroke-width: 0.8; stroke-linejoin: miter; stroke-linecap: square\"/>\n   </g>\n   <g id=\"text_18\">\n    <!-- king -->\n    <g transform=\"translate(111.518786 46.358075) scale(0.1 -0.1)\">\n     <defs>\n      <path id=\"DejaVuSans-6b\" d=\"M 581 4863 \nL 1159 4863 \nL 1159 1991 \nL 2875 3500 \nL 3609 3500 \nL 1753 1863 \nL 3688 0 \nL 2938 0 \nL 1159 1709 \nL 1159 0 \nL 581 0 \nL 581 4863 \nz\n\" transform=\"scale(0.015625)\"/>\n      <path id=\"DejaVuSans-69\" d=\"M 603 3500 \nL 1178 3500 \nL 1178 0 \nL 603 0 \nL 603 3500 \nz\nM 603 4863 \nL 1178 4863 \nL 1178 4134 \nL 603 4134 \nL 603 4863 \nz\n\" transform=\"scale(0.015625)\"/>\n      <path id=\"DejaVuSans-6e\" d=\"M 3513 2113 \nL 3513 0 \nL 2938 0 \nL 2938 2094 \nQ 2938 2591 2744 2837 \nQ 2550 3084 2163 3084 \nQ 1697 3084 1428 2787 \nQ 1159 2491 1159 1978 \nL 1159 0 \nL 581 0 \nL 581 3500 \nL 1159 3500 \nL 1159 2956 \nQ 1366 3272 1645 3428 \nQ 1925 3584 2291 3584 \nQ 2894 3584 3203 3211 \nQ 3513 2838 3513 2113 \nz\n\" transform=\"scale(0.015625)\"/>\n      <path id=\"DejaVuSans-67\" d=\"M 2906 1791 \nQ 2906 2416 2648 2759 \nQ 2391 3103 1925 3103 \nQ 1463 3103 1205 2759 \nQ 947 2416 947 1791 \nQ 947 1169 1205 825 \nQ 1463 481 1925 481 \nQ 2391 481 2648 825 \nQ 2906 1169 2906 1791 \nz\nM 3481 434 \nQ 3481 -459 3084 -895 \nQ 2688 -1331 1869 -1331 \nQ 1566 -1331 1297 -1286 \nQ 1028 -1241 775 -1147 \nL 775 -588 \nQ 1028 -725 1275 -790 \nQ 1522 -856 1778 -856 \nQ 2344 -856 2625 -561 \nQ 2906 -266 2906 331 \nL 2906 616 \nQ 2728 306 2450 153 \nQ 2172 0 1784 0 \nQ 1141 0 747 490 \nQ 353 981 353 1791 \nQ 353 2603 747 3093 \nQ 1141 3584 1784 3584 \nQ 2172 3584 2450 3431 \nQ 2728 3278 2906 2969 \nL 2906 3500 \nL 3481 3500 \nL 3481 434 \nz\n\" transform=\"scale(0.015625)\"/>\n     </defs>\n     <use xlink:href=\"#DejaVuSans-6b\"/>\n     <use xlink:href=\"#DejaVuSans-69\" transform=\"translate(57.910156 0)\"/>\n     <use xlink:href=\"#DejaVuSans-6e\" transform=\"translate(85.693359 0)\"/>\n     <use xlink:href=\"#DejaVuSans-67\" transform=\"translate(149.072266 0)\"/>\n    </g>\n   </g>\n   <g id=\"text_19\">\n    <!-- queen -->\n    <g transform=\"translate(147.606793 113.070344) scale(0.1 -0.1)\">\n     <defs>\n      <path id=\"DejaVuSans-71\" d=\"M 947 1747 \nQ 947 1113 1208 752 \nQ 1469 391 1925 391 \nQ 2381 391 2643 752 \nQ 2906 1113 2906 1747 \nQ 2906 2381 2643 2742 \nQ 2381 3103 1925 3103 \nQ 1469 3103 1208 2742 \nQ 947 2381 947 1747 \nz\nM 2906 525 \nQ 2725 213 2448 61 \nQ 2172 -91 1784 -91 \nQ 1150 -91 751 415 \nQ 353 922 353 1747 \nQ 353 2572 751 3078 \nQ 1150 3584 1784 3584 \nQ 2172 3584 2448 3432 \nQ 2725 3281 2906 2969 \nL 2906 3500 \nL 3481 3500 \nL 3481 -1331 \nL 2906 -1331 \nL 2906 525 \nz\n\" transform=\"scale(0.015625)\"/>\n      <path id=\"DejaVuSans-75\" d=\"M 544 1381 \nL 544 3500 \nL 1119 3500 \nL 1119 1403 \nQ 1119 906 1312 657 \nQ 1506 409 1894 409 \nQ 2359 409 2629 706 \nQ 2900 1003 2900 1516 \nL 2900 3500 \nL 3475 3500 \nL 3475 0 \nL 2900 0 \nL 2900 538 \nQ 2691 219 2414 64 \nQ 2138 -91 1772 -91 \nQ 1169 -91 856 284 \nQ 544 659 544 1381 \nz\nM 1991 3584 \nL 1991 3584 \nz\n\" transform=\"scale(0.015625)\"/>\n      <path id=\"DejaVuSans-65\" d=\"M 3597 1894 \nL 3597 1613 \nL 953 1613 \nQ 991 1019 1311 708 \nQ 1631 397 2203 397 \nQ 2534 397 2845 478 \nQ 3156 559 3463 722 \nL 3463 178 \nQ 3153 47 2828 -22 \nQ 2503 -91 2169 -91 \nQ 1331 -91 842 396 \nQ 353 884 353 1716 \nQ 353 2575 817 3079 \nQ 1281 3584 2069 3584 \nQ 2775 3584 3186 3129 \nQ 3597 2675 3597 1894 \nz\nM 3022 2063 \nQ 3016 2534 2758 2815 \nQ 2500 3097 2075 3097 \nQ 1594 3097 1305 2825 \nQ 1016 2553 972 2059 \nL 3022 2063 \nz\n\" transform=\"scale(0.015625)\"/>\n     </defs>\n     <use xlink:href=\"#DejaVuSans-71\"/>\n     <use xlink:href=\"#DejaVuSans-75\" transform=\"translate(63.476562 0)\"/>\n     <use xlink:href=\"#DejaVuSans-65\" transform=\"translate(126.855469 0)\"/>\n     <use xlink:href=\"#DejaVuSans-65\" transform=\"translate(188.378906 0)\"/>\n     <use xlink:href=\"#DejaVuSans-6e\" transform=\"translate(249.902344 0)\"/>\n    </g>\n   </g>\n   <g id=\"text_20\">\n    <!-- lord -->\n    <g transform=\"translate(227.408556 261.216) scale(0.1 -0.1)\">\n     <defs>\n      <path id=\"DejaVuSans-6c\" d=\"M 603 4863 \nL 1178 4863 \nL 1178 0 \nL 603 0 \nL 603 4863 \nz\n\" transform=\"scale(0.015625)\"/>\n      <path id=\"DejaVuSans-6f\" d=\"M 1959 3097 \nQ 1497 3097 1228 2736 \nQ 959 2375 959 1747 \nQ 959 1119 1226 758 \nQ 1494 397 1959 397 \nQ 2419 397 2687 759 \nQ 2956 1122 2956 1747 \nQ 2956 2369 2687 2733 \nQ 2419 3097 1959 3097 \nz\nM 1959 3584 \nQ 2709 3584 3137 3096 \nQ 3566 2609 3566 1747 \nQ 3566 888 3137 398 \nQ 2709 -91 1959 -91 \nQ 1206 -91 779 398 \nQ 353 888 353 1747 \nQ 353 2609 779 3096 \nQ 1206 3584 1959 3584 \nz\n\" transform=\"scale(0.015625)\"/>\n      <path id=\"DejaVuSans-72\" d=\"M 2631 2963 \nQ 2534 3019 2420 3045 \nQ 2306 3072 2169 3072 \nQ 1681 3072 1420 2755 \nQ 1159 2438 1159 1844 \nL 1159 0 \nL 581 0 \nL 581 3500 \nL 1159 3500 \nL 1159 2956 \nQ 1341 3275 1631 3429 \nQ 1922 3584 2338 3584 \nQ 2397 3584 2469 3576 \nQ 2541 3569 2628 3553 \nL 2631 2963 \nz\n\" transform=\"scale(0.015625)\"/>\n      <path id=\"DejaVuSans-64\" d=\"M 2906 2969 \nL 2906 4863 \nL 3481 4863 \nL 3481 0 \nL 2906 0 \nL 2906 525 \nQ 2725 213 2448 61 \nQ 2172 -91 1784 -91 \nQ 1150 -91 751 415 \nQ 353 922 353 1747 \nQ 353 2572 751 3078 \nQ 1150 3584 1784 3584 \nQ 2172 3584 2448 3432 \nQ 2725 3281 2906 2969 \nz\nM 947 1747 \nQ 947 1113 1208 752 \nQ 1469 391 1925 391 \nQ 2381 391 2643 752 \nQ 2906 1113 2906 1747 \nQ 2906 2381 2643 2742 \nQ 2381 3103 1925 3103 \nQ 1469 3103 1208 2742 \nQ 947 2381 947 1747 \nz\n\" transform=\"scale(0.015625)\"/>\n     </defs>\n     <use xlink:href=\"#DejaVuSans-6c\"/>\n     <use xlink:href=\"#DejaVuSans-6f\" transform=\"translate(27.783203 0)\"/>\n     <use xlink:href=\"#DejaVuSans-72\" transform=\"translate(88.964844 0)\"/>\n     <use xlink:href=\"#DejaVuSans-64\" transform=\"translate(128.328125 0)\"/>\n    </g>\n   </g>\n   <g id=\"text_21\">\n    <!-- man -->\n    <g transform=\"translate(208.594727 30.321691) scale(0.1 -0.1)\">\n     <defs>\n      <path id=\"DejaVuSans-6d\" d=\"M 3328 2828 \nQ 3544 3216 3844 3400 \nQ 4144 3584 4550 3584 \nQ 5097 3584 5394 3201 \nQ 5691 2819 5691 2113 \nL 5691 0 \nL 5113 0 \nL 5113 2094 \nQ 5113 2597 4934 2840 \nQ 4756 3084 4391 3084 \nQ 3944 3084 3684 2787 \nQ 3425 2491 3425 1978 \nL 3425 0 \nL 2847 0 \nL 2847 2094 \nQ 2847 2600 2669 2842 \nQ 2491 3084 2119 3084 \nQ 1678 3084 1418 2786 \nQ 1159 2488 1159 1978 \nL 1159 0 \nL 581 0 \nL 581 3500 \nL 1159 3500 \nL 1159 2956 \nQ 1356 3278 1631 3431 \nQ 1906 3584 2284 3584 \nQ 2666 3584 2933 3390 \nQ 3200 3197 3328 2828 \nz\n\" transform=\"scale(0.015625)\"/>\n      <path id=\"DejaVuSans-61\" d=\"M 2194 1759 \nQ 1497 1759 1228 1600 \nQ 959 1441 959 1056 \nQ 959 750 1161 570 \nQ 1363 391 1709 391 \nQ 2188 391 2477 730 \nQ 2766 1069 2766 1631 \nL 2766 1759 \nL 2194 1759 \nz\nM 3341 1997 \nL 3341 0 \nL 2766 0 \nL 2766 531 \nQ 2569 213 2275 61 \nQ 1981 -91 1556 -91 \nQ 1019 -91 701 211 \nQ 384 513 384 1019 \nQ 384 1609 779 1909 \nQ 1175 2209 1959 2209 \nL 2766 2209 \nL 2766 2266 \nQ 2766 2663 2505 2880 \nQ 2244 3097 1772 3097 \nQ 1472 3097 1187 3025 \nQ 903 2953 641 2809 \nL 641 3341 \nQ 956 3463 1253 3523 \nQ 1550 3584 1831 3584 \nQ 2591 3584 2966 3190 \nQ 3341 2797 3341 1997 \nz\n\" transform=\"scale(0.015625)\"/>\n     </defs>\n     <use xlink:href=\"#DejaVuSans-6d\"/>\n     <use xlink:href=\"#DejaVuSans-61\" transform=\"translate(97.412109 0)\"/>\n     <use xlink:href=\"#DejaVuSans-6e\" transform=\"translate(158.691406 0)\"/>\n    </g>\n   </g>\n   <g id=\"text_22\">\n    <!-- woman -->\n    <g transform=\"translate(290.907932 111.962289) scale(0.1 -0.1)\">\n     <defs>\n      <path id=\"DejaVuSans-77\" d=\"M 269 3500 \nL 844 3500 \nL 1563 769 \nL 2278 3500 \nL 2956 3500 \nL 3675 769 \nL 4391 3500 \nL 4966 3500 \nL 4050 0 \nL 3372 0 \nL 2619 2869 \nL 1863 0 \nL 1184 0 \nL 269 3500 \nz\n\" transform=\"scale(0.015625)\"/>\n     </defs>\n     <use xlink:href=\"#DejaVuSans-77\"/>\n     <use xlink:href=\"#DejaVuSans-6f\" transform=\"translate(81.787109 0)\"/>\n     <use xlink:href=\"#DejaVuSans-6d\" transform=\"translate(142.96875 0)\"/>\n     <use xlink:href=\"#DejaVuSans-61\" transform=\"translate(240.380859 0)\"/>\n     <use xlink:href=\"#DejaVuSans-6e\" transform=\"translate(301.660156 0)\"/>\n    </g>\n   </g>\n   <g id=\"text_23\">\n    <!-- dog -->\n    <g transform=\"translate(200.395407 41.369631) scale(0.1 -0.1)\">\n     <use xlink:href=\"#DejaVuSans-64\"/>\n     <use xlink:href=\"#DejaVuSans-6f\" transform=\"translate(63.476562 0)\"/>\n     <use xlink:href=\"#DejaVuSans-67\" transform=\"translate(124.658203 0)\"/>\n    </g>\n   </g>\n   <g id=\"text_24\">\n    <!-- wolf -->\n    <g transform=\"translate(61.07804 100.923841) scale(0.1 -0.1)\">\n     <defs>\n      <path id=\"DejaVuSans-66\" d=\"M 2375 4863 \nL 2375 4384 \nL 1825 4384 \nQ 1516 4384 1395 4259 \nQ 1275 4134 1275 3809 \nL 1275 3500 \nL 2222 3500 \nL 2222 3053 \nL 1275 3053 \nL 1275 0 \nL 697 0 \nL 697 3053 \nL 147 3053 \nL 147 3500 \nL 697 3500 \nL 697 3744 \nQ 697 4328 969 4595 \nQ 1241 4863 1831 4863 \nL 2375 4863 \nz\n\" transform=\"scale(0.015625)\"/>\n     </defs>\n     <use xlink:href=\"#DejaVuSans-77\"/>\n     <use xlink:href=\"#DejaVuSans-6f\" transform=\"translate(81.787109 0)\"/>\n     <use xlink:href=\"#DejaVuSans-6c\" transform=\"translate(142.96875 0)\"/>\n     <use xlink:href=\"#DejaVuSans-66\" transform=\"translate(170.751953 0)\"/>\n    </g>\n   </g>\n   <g id=\"text_25\">\n    <!-- rich -->\n    <g transform=\"translate(374.644648 76.485666) scale(0.1 -0.1)\">\n     <defs>\n      <path id=\"DejaVuSans-63\" d=\"M 3122 3366 \nL 3122 2828 \nQ 2878 2963 2633 3030 \nQ 2388 3097 2138 3097 \nQ 1578 3097 1268 2742 \nQ 959 2388 959 1747 \nQ 959 1106 1268 751 \nQ 1578 397 2138 397 \nQ 2388 397 2633 464 \nQ 2878 531 3122 666 \nL 3122 134 \nQ 2881 22 2623 -34 \nQ 2366 -91 2075 -91 \nQ 1284 -91 818 406 \nQ 353 903 353 1747 \nQ 353 2603 823 3093 \nQ 1294 3584 2113 3584 \nQ 2378 3584 2631 3529 \nQ 2884 3475 3122 3366 \nz\n\" transform=\"scale(0.015625)\"/>\n      <path id=\"DejaVuSans-68\" d=\"M 3513 2113 \nL 3513 0 \nL 2938 0 \nL 2938 2094 \nQ 2938 2591 2744 2837 \nQ 2550 3084 2163 3084 \nQ 1697 3084 1428 2787 \nQ 1159 2491 1159 1978 \nL 1159 0 \nL 581 0 \nL 581 4863 \nL 1159 4863 \nL 1159 2956 \nQ 1366 3272 1645 3428 \nQ 1925 3584 2291 3584 \nQ 2894 3584 3203 3211 \nQ 3513 2838 3513 2113 \nz\n\" transform=\"scale(0.015625)\"/>\n     </defs>\n     <use xlink:href=\"#DejaVuSans-72\"/>\n     <use xlink:href=\"#DejaVuSans-69\" transform=\"translate(41.113281 0)\"/>\n     <use xlink:href=\"#DejaVuSans-63\" transform=\"translate(68.896484 0)\"/>\n     <use xlink:href=\"#DejaVuSans-68\" transform=\"translate(123.876953 0)\"/>\n    </g>\n   </g>\n   <g id=\"text_26\">\n    <!-- happy -->\n    <g transform=\"translate(385.732585 70.120943) scale(0.1 -0.1)\">\n     <defs>\n      <path id=\"DejaVuSans-70\" d=\"M 1159 525 \nL 1159 -1331 \nL 581 -1331 \nL 581 3500 \nL 1159 3500 \nL 1159 2969 \nQ 1341 3281 1617 3432 \nQ 1894 3584 2278 3584 \nQ 2916 3584 3314 3078 \nQ 3713 2572 3713 1747 \nQ 3713 922 3314 415 \nQ 2916 -91 2278 -91 \nQ 1894 -91 1617 61 \nQ 1341 213 1159 525 \nz\nM 3116 1747 \nQ 3116 2381 2855 2742 \nQ 2594 3103 2138 3103 \nQ 1681 3103 1420 2742 \nQ 1159 2381 1159 1747 \nQ 1159 1113 1420 752 \nQ 1681 391 2138 391 \nQ 2594 391 2855 752 \nQ 3116 1113 3116 1747 \nz\n\" transform=\"scale(0.015625)\"/>\n      <path id=\"DejaVuSans-79\" d=\"M 2059 -325 \nQ 1816 -950 1584 -1140 \nQ 1353 -1331 966 -1331 \nL 506 -1331 \nL 506 -850 \nL 844 -850 \nQ 1081 -850 1212 -737 \nQ 1344 -625 1503 -206 \nL 1606 56 \nL 191 3500 \nL 800 3500 \nL 1894 763 \nL 2988 3500 \nL 3597 3500 \nL 2059 -325 \nz\n\" transform=\"scale(0.015625)\"/>\n     </defs>\n     <use xlink:href=\"#DejaVuSans-68\"/>\n     <use xlink:href=\"#DejaVuSans-61\" transform=\"translate(63.378906 0)\"/>\n     <use xlink:href=\"#DejaVuSans-70\" transform=\"translate(124.658203 0)\"/>\n     <use xlink:href=\"#DejaVuSans-70\" transform=\"translate(188.134766 0)\"/>\n     <use xlink:href=\"#DejaVuSans-79\" transform=\"translate(251.611328 0)\"/>\n    </g>\n   </g>\n   <g id=\"text_27\">\n    <!-- sad -->\n    <g transform=\"translate(227.136087 19.296) scale(0.1 -0.1)\">\n     <defs>\n      <path id=\"DejaVuSans-73\" d=\"M 2834 3397 \nL 2834 2853 \nQ 2591 2978 2328 3040 \nQ 2066 3103 1784 3103 \nQ 1356 3103 1142 2972 \nQ 928 2841 928 2578 \nQ 928 2378 1081 2264 \nQ 1234 2150 1697 2047 \nL 1894 2003 \nQ 2506 1872 2764 1633 \nQ 3022 1394 3022 966 \nQ 3022 478 2636 193 \nQ 2250 -91 1575 -91 \nQ 1294 -91 989 -36 \nQ 684 19 347 128 \nL 347 722 \nQ 666 556 975 473 \nQ 1284 391 1588 391 \nQ 1994 391 2212 530 \nQ 2431 669 2431 922 \nQ 2431 1156 2273 1281 \nQ 2116 1406 1581 1522 \nL 1381 1569 \nQ 847 1681 609 1914 \nQ 372 2147 372 2553 \nQ 372 3047 722 3315 \nQ 1072 3584 1716 3584 \nQ 2034 3584 2315 3537 \nQ 2597 3491 2834 3397 \nz\n\" transform=\"scale(0.015625)\"/>\n     </defs>\n     <use xlink:href=\"#DejaVuSans-73\"/>\n     <use xlink:href=\"#DejaVuSans-61\" transform=\"translate(52.099609 0)\"/>\n     <use xlink:href=\"#DejaVuSans-64\" transform=\"translate(113.378906 0)\"/>\n    </g>\n   </g>\n  </g>\n </g>\n <defs>\n  <clipPath id=\"pa59a1dece5\">\n   <rect x=\"44.845313\" y=\"7.2\" width=\"357.12\" height=\"266.112\"/>\n  </clipPath>\n </defs>\n</svg>\n"
          },
          "metadata": {}
        }
      ],
      "source": [
        "result= compute_pca(X, 4)\n",
        "pyplot.scatter(result[:, 3], result[:, 1])\n",
        "for i, word in enumerate(words):\n",
        "    pyplot.annotate(word, xy=(result[i, 3], result[i, 1]))\n",
        "pyplot.show()"
      ]
    },
    {
      "cell_type": "code",
      "source": [],
      "metadata": {
        "id": "c25Mb4nrEriO"
      },
      "execution_count": null,
      "outputs": []
    }
  ],
  "metadata": {
    "coursera": {
      "schema_names": [
        "NLPC2-4"
      ]
    },
    "kernelspec": {
      "display_name": "Python 3 (ipykernel)",
      "language": "python",
      "name": "python3"
    },
    "language_info": {
      "codemirror_mode": {
        "name": "ipython",
        "version": 3
      },
      "file_extension": ".py",
      "mimetype": "text/x-python",
      "name": "python",
      "nbconvert_exporter": "python",
      "pygments_lexer": "ipython3",
      "version": "3.11.8"
    },
    "colab": {
      "provenance": []
    }
  },
  "nbformat": 4,
  "nbformat_minor": 0
}